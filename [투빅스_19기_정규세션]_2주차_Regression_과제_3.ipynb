{
  "cells": [
    {
      "cell_type": "markdown",
      "metadata": {
        "id": "view-in-github",
        "colab_type": "text"
      },
      "source": [
        "<a href=\"https://colab.research.google.com/github/DongWooLeee/Tobigs19/blob/main/%5B%ED%88%AC%EB%B9%85%EC%8A%A4_19%EA%B8%B0_%EC%A0%95%EA%B7%9C%EC%84%B8%EC%85%98%5D_2%EC%A3%BC%EC%B0%A8_Regression_%EA%B3%BC%EC%A0%9C_3.ipynb\" target=\"_parent\"><img src=\"https://colab.research.google.com/assets/colab-badge.svg\" alt=\"Open In Colab\"/></a>"
      ]
    },
    {
      "cell_type": "markdown",
      "metadata": {
        "id": "fu39oBW0RVn5"
      },
      "source": [
        "# [과제 3] 로지스틱 회귀분석\n",
        "### - sklearn 패키지를 사용해 로지스틱 회귀분석을 진행해주세요.\n",
        "### - 성능지표를 계산하고 이에 대해 해석해주세요.\n",
        "### - 성능 개선을 시도해주세요. (어떠한 성능지표를 기준으로 개선을 시도했는지, 그 이유도 함께 적어주세요.)\n",
        "### - 주석으로 설명 및 근거 자세하게 달아주시면 감사하겠습니다. :)"
      ]
    },
    {
      "cell_type": "markdown",
      "metadata": {
        "id": "8rN2SWezRVn_"
      },
      "source": [
        "## Data "
      ]
    },
    {
      "cell_type": "markdown",
      "metadata": {
        "id": "Y7SYKNvQRVn_"
      },
      "source": [
        "출처 : https://www.kaggle.com/mlg-ulb/creditcardfraud\n",
        "\n",
        "\n",
        "* V1 ~ V28 : 비식별화 된 개인정보 \n",
        "* **Class** : Target 변수  \n",
        "  - 1 : fraudulent transactions (사기)\n",
        "  - 0 : otherwise "
      ]
    },
    {
      "cell_type": "code",
      "source": [
        "import numpy as np\n",
        "import pandas as pd\n",
        "import seaborn as sns\n",
        "import matplotlib.pyplot as plt\n",
        "from google.colab import drive\n",
        "drive.mount('/content/drive')\n",
        "data = pd.read_csv('./drive/MyDrive/과제/assignment3_creditcard.csv')\n"
      ],
      "metadata": {
        "colab": {
          "base_uri": "https://localhost:8080/"
        },
        "id": "aaz0q1hmiiFF",
        "outputId": "b7fb90bf-1219-4acb-c3b2-3962bf11f980"
      },
      "execution_count": 1,
      "outputs": [
        {
          "output_type": "stream",
          "name": "stdout",
          "text": [
            "Mounted at /content/drive\n"
          ]
        }
      ]
    },
    {
      "cell_type": "code",
      "execution_count": 2,
      "metadata": {
        "colab": {
          "base_uri": "https://localhost:8080/",
          "height": 299
        },
        "id": "v98OeXW5RVoB",
        "outputId": "6fe314ad-b785-42c5-b665-be3cb64b951c"
      },
      "outputs": [
        {
          "output_type": "execute_result",
          "data": {
            "text/plain": [
              "         V1        V2        V3        V4        V5        V6        V7  \\\n",
              "0 -1.848212  2.384900  0.379573  1.048381 -0.845070  2.537837 -4.542983   \n",
              "1  2.071805 -0.477943 -1.444444 -0.548657  0.010036 -0.582242 -0.042878   \n",
              "2 -2.985294 -2.747472  1.194068 -0.003036 -1.151041 -0.263559  0.553500   \n",
              "3 -1.479452  1.542874  0.290895  0.838142 -0.529290 -0.717661  0.484516   \n",
              "4 -0.281976 -0.309699 -2.162299 -0.851514  0.106167 -1.483888  1.930994   \n",
              "\n",
              "          V8        V9       V10  ...       V20       V21       V22       V23  \\\n",
              "0 -10.201458 -1.504967 -2.234167  ...  2.585817 -5.291690  0.859364  0.423231   \n",
              "1  -0.247160  1.171923 -0.342382  ... -0.077306  0.042858  0.390125  0.041569   \n",
              "2   0.635600  0.438545 -1.806488  ...  1.345776  0.373760 -0.385777  1.197596   \n",
              "3   0.545092 -0.780767  0.324804  ...  0.038397  0.116771  0.405560 -0.116453   \n",
              "4  -0.843049 -1.249272  1.079608  ... -0.875516 -0.004199  1.015108 -0.026748   \n",
              "\n",
              "        V24       V25       V26       V27       V28  Class  \n",
              "0 -0.506985  1.020052 -0.627751 -0.017753  0.280982      0  \n",
              "1  0.598427  0.098803  0.979686 -0.093244 -0.065615      0  \n",
              "2  0.407229  0.008013  0.762362 -0.299024 -0.303929      0  \n",
              "3  0.541275 -0.216665 -0.415578  0.027126 -0.150347      0  \n",
              "4  0.077115 -1.468822  0.751700  0.496732  0.331001      0  \n",
              "\n",
              "[5 rows x 29 columns]"
            ],
            "text/html": [
              "\n",
              "  <div id=\"df-8ef281d2-27bd-4307-93ef-37fcc5624121\">\n",
              "    <div class=\"colab-df-container\">\n",
              "      <div>\n",
              "<style scoped>\n",
              "    .dataframe tbody tr th:only-of-type {\n",
              "        vertical-align: middle;\n",
              "    }\n",
              "\n",
              "    .dataframe tbody tr th {\n",
              "        vertical-align: top;\n",
              "    }\n",
              "\n",
              "    .dataframe thead th {\n",
              "        text-align: right;\n",
              "    }\n",
              "</style>\n",
              "<table border=\"1\" class=\"dataframe\">\n",
              "  <thead>\n",
              "    <tr style=\"text-align: right;\">\n",
              "      <th></th>\n",
              "      <th>V1</th>\n",
              "      <th>V2</th>\n",
              "      <th>V3</th>\n",
              "      <th>V4</th>\n",
              "      <th>V5</th>\n",
              "      <th>V6</th>\n",
              "      <th>V7</th>\n",
              "      <th>V8</th>\n",
              "      <th>V9</th>\n",
              "      <th>V10</th>\n",
              "      <th>...</th>\n",
              "      <th>V20</th>\n",
              "      <th>V21</th>\n",
              "      <th>V22</th>\n",
              "      <th>V23</th>\n",
              "      <th>V24</th>\n",
              "      <th>V25</th>\n",
              "      <th>V26</th>\n",
              "      <th>V27</th>\n",
              "      <th>V28</th>\n",
              "      <th>Class</th>\n",
              "    </tr>\n",
              "  </thead>\n",
              "  <tbody>\n",
              "    <tr>\n",
              "      <th>0</th>\n",
              "      <td>-1.848212</td>\n",
              "      <td>2.384900</td>\n",
              "      <td>0.379573</td>\n",
              "      <td>1.048381</td>\n",
              "      <td>-0.845070</td>\n",
              "      <td>2.537837</td>\n",
              "      <td>-4.542983</td>\n",
              "      <td>-10.201458</td>\n",
              "      <td>-1.504967</td>\n",
              "      <td>-2.234167</td>\n",
              "      <td>...</td>\n",
              "      <td>2.585817</td>\n",
              "      <td>-5.291690</td>\n",
              "      <td>0.859364</td>\n",
              "      <td>0.423231</td>\n",
              "      <td>-0.506985</td>\n",
              "      <td>1.020052</td>\n",
              "      <td>-0.627751</td>\n",
              "      <td>-0.017753</td>\n",
              "      <td>0.280982</td>\n",
              "      <td>0</td>\n",
              "    </tr>\n",
              "    <tr>\n",
              "      <th>1</th>\n",
              "      <td>2.071805</td>\n",
              "      <td>-0.477943</td>\n",
              "      <td>-1.444444</td>\n",
              "      <td>-0.548657</td>\n",
              "      <td>0.010036</td>\n",
              "      <td>-0.582242</td>\n",
              "      <td>-0.042878</td>\n",
              "      <td>-0.247160</td>\n",
              "      <td>1.171923</td>\n",
              "      <td>-0.342382</td>\n",
              "      <td>...</td>\n",
              "      <td>-0.077306</td>\n",
              "      <td>0.042858</td>\n",
              "      <td>0.390125</td>\n",
              "      <td>0.041569</td>\n",
              "      <td>0.598427</td>\n",
              "      <td>0.098803</td>\n",
              "      <td>0.979686</td>\n",
              "      <td>-0.093244</td>\n",
              "      <td>-0.065615</td>\n",
              "      <td>0</td>\n",
              "    </tr>\n",
              "    <tr>\n",
              "      <th>2</th>\n",
              "      <td>-2.985294</td>\n",
              "      <td>-2.747472</td>\n",
              "      <td>1.194068</td>\n",
              "      <td>-0.003036</td>\n",
              "      <td>-1.151041</td>\n",
              "      <td>-0.263559</td>\n",
              "      <td>0.553500</td>\n",
              "      <td>0.635600</td>\n",
              "      <td>0.438545</td>\n",
              "      <td>-1.806488</td>\n",
              "      <td>...</td>\n",
              "      <td>1.345776</td>\n",
              "      <td>0.373760</td>\n",
              "      <td>-0.385777</td>\n",
              "      <td>1.197596</td>\n",
              "      <td>0.407229</td>\n",
              "      <td>0.008013</td>\n",
              "      <td>0.762362</td>\n",
              "      <td>-0.299024</td>\n",
              "      <td>-0.303929</td>\n",
              "      <td>0</td>\n",
              "    </tr>\n",
              "    <tr>\n",
              "      <th>3</th>\n",
              "      <td>-1.479452</td>\n",
              "      <td>1.542874</td>\n",
              "      <td>0.290895</td>\n",
              "      <td>0.838142</td>\n",
              "      <td>-0.529290</td>\n",
              "      <td>-0.717661</td>\n",
              "      <td>0.484516</td>\n",
              "      <td>0.545092</td>\n",
              "      <td>-0.780767</td>\n",
              "      <td>0.324804</td>\n",
              "      <td>...</td>\n",
              "      <td>0.038397</td>\n",
              "      <td>0.116771</td>\n",
              "      <td>0.405560</td>\n",
              "      <td>-0.116453</td>\n",
              "      <td>0.541275</td>\n",
              "      <td>-0.216665</td>\n",
              "      <td>-0.415578</td>\n",
              "      <td>0.027126</td>\n",
              "      <td>-0.150347</td>\n",
              "      <td>0</td>\n",
              "    </tr>\n",
              "    <tr>\n",
              "      <th>4</th>\n",
              "      <td>-0.281976</td>\n",
              "      <td>-0.309699</td>\n",
              "      <td>-2.162299</td>\n",
              "      <td>-0.851514</td>\n",
              "      <td>0.106167</td>\n",
              "      <td>-1.483888</td>\n",
              "      <td>1.930994</td>\n",
              "      <td>-0.843049</td>\n",
              "      <td>-1.249272</td>\n",
              "      <td>1.079608</td>\n",
              "      <td>...</td>\n",
              "      <td>-0.875516</td>\n",
              "      <td>-0.004199</td>\n",
              "      <td>1.015108</td>\n",
              "      <td>-0.026748</td>\n",
              "      <td>0.077115</td>\n",
              "      <td>-1.468822</td>\n",
              "      <td>0.751700</td>\n",
              "      <td>0.496732</td>\n",
              "      <td>0.331001</td>\n",
              "      <td>0</td>\n",
              "    </tr>\n",
              "  </tbody>\n",
              "</table>\n",
              "<p>5 rows × 29 columns</p>\n",
              "</div>\n",
              "      <button class=\"colab-df-convert\" onclick=\"convertToInteractive('df-8ef281d2-27bd-4307-93ef-37fcc5624121')\"\n",
              "              title=\"Convert this dataframe to an interactive table.\"\n",
              "              style=\"display:none;\">\n",
              "        \n",
              "  <svg xmlns=\"http://www.w3.org/2000/svg\" height=\"24px\"viewBox=\"0 0 24 24\"\n",
              "       width=\"24px\">\n",
              "    <path d=\"M0 0h24v24H0V0z\" fill=\"none\"/>\n",
              "    <path d=\"M18.56 5.44l.94 2.06.94-2.06 2.06-.94-2.06-.94-.94-2.06-.94 2.06-2.06.94zm-11 1L8.5 8.5l.94-2.06 2.06-.94-2.06-.94L8.5 2.5l-.94 2.06-2.06.94zm10 10l.94 2.06.94-2.06 2.06-.94-2.06-.94-.94-2.06-.94 2.06-2.06.94z\"/><path d=\"M17.41 7.96l-1.37-1.37c-.4-.4-.92-.59-1.43-.59-.52 0-1.04.2-1.43.59L10.3 9.45l-7.72 7.72c-.78.78-.78 2.05 0 2.83L4 21.41c.39.39.9.59 1.41.59.51 0 1.02-.2 1.41-.59l7.78-7.78 2.81-2.81c.8-.78.8-2.07 0-2.86zM5.41 20L4 18.59l7.72-7.72 1.47 1.35L5.41 20z\"/>\n",
              "  </svg>\n",
              "      </button>\n",
              "      \n",
              "  <style>\n",
              "    .colab-df-container {\n",
              "      display:flex;\n",
              "      flex-wrap:wrap;\n",
              "      gap: 12px;\n",
              "    }\n",
              "\n",
              "    .colab-df-convert {\n",
              "      background-color: #E8F0FE;\n",
              "      border: none;\n",
              "      border-radius: 50%;\n",
              "      cursor: pointer;\n",
              "      display: none;\n",
              "      fill: #1967D2;\n",
              "      height: 32px;\n",
              "      padding: 0 0 0 0;\n",
              "      width: 32px;\n",
              "    }\n",
              "\n",
              "    .colab-df-convert:hover {\n",
              "      background-color: #E2EBFA;\n",
              "      box-shadow: 0px 1px 2px rgba(60, 64, 67, 0.3), 0px 1px 3px 1px rgba(60, 64, 67, 0.15);\n",
              "      fill: #174EA6;\n",
              "    }\n",
              "\n",
              "    [theme=dark] .colab-df-convert {\n",
              "      background-color: #3B4455;\n",
              "      fill: #D2E3FC;\n",
              "    }\n",
              "\n",
              "    [theme=dark] .colab-df-convert:hover {\n",
              "      background-color: #434B5C;\n",
              "      box-shadow: 0px 1px 3px 1px rgba(0, 0, 0, 0.15);\n",
              "      filter: drop-shadow(0px 1px 2px rgba(0, 0, 0, 0.3));\n",
              "      fill: #FFFFFF;\n",
              "    }\n",
              "  </style>\n",
              "\n",
              "      <script>\n",
              "        const buttonEl =\n",
              "          document.querySelector('#df-8ef281d2-27bd-4307-93ef-37fcc5624121 button.colab-df-convert');\n",
              "        buttonEl.style.display =\n",
              "          google.colab.kernel.accessAllowed ? 'block' : 'none';\n",
              "\n",
              "        async function convertToInteractive(key) {\n",
              "          const element = document.querySelector('#df-8ef281d2-27bd-4307-93ef-37fcc5624121');\n",
              "          const dataTable =\n",
              "            await google.colab.kernel.invokeFunction('convertToInteractive',\n",
              "                                                     [key], {});\n",
              "          if (!dataTable) return;\n",
              "\n",
              "          const docLinkHtml = 'Like what you see? Visit the ' +\n",
              "            '<a target=\"_blank\" href=https://colab.research.google.com/notebooks/data_table.ipynb>data table notebook</a>'\n",
              "            + ' to learn more about interactive tables.';\n",
              "          element.innerHTML = '';\n",
              "          dataTable['output_type'] = 'display_data';\n",
              "          await google.colab.output.renderOutput(dataTable, element);\n",
              "          const docLink = document.createElement('div');\n",
              "          docLink.innerHTML = docLinkHtml;\n",
              "          element.appendChild(docLink);\n",
              "        }\n",
              "      </script>\n",
              "    </div>\n",
              "  </div>\n",
              "  "
            ]
          },
          "metadata": {},
          "execution_count": 2
        }
      ],
      "source": [
        "data.head()"
      ]
    },
    {
      "cell_type": "code",
      "source": [
        "data.columns"
      ],
      "metadata": {
        "colab": {
          "base_uri": "https://localhost:8080/"
        },
        "id": "8i-yxBkWjbiC",
        "outputId": "0a37f58f-a54f-4e06-f67f-a40cca0b24f1"
      },
      "execution_count": 3,
      "outputs": [
        {
          "output_type": "execute_result",
          "data": {
            "text/plain": [
              "Index(['V1', 'V2', 'V3', 'V4', 'V5', 'V6', 'V7', 'V8', 'V9', 'V10', 'V11',\n",
              "       'V12', 'V13', 'V14', 'V15', 'V16', 'V17', 'V18', 'V19', 'V20', 'V21',\n",
              "       'V22', 'V23', 'V24', 'V25', 'V26', 'V27', 'V28', 'Class'],\n",
              "      dtype='object')"
            ]
          },
          "metadata": {},
          "execution_count": 3
        }
      ]
    },
    {
      "cell_type": "code",
      "source": [
        "data.info()"
      ],
      "metadata": {
        "colab": {
          "base_uri": "https://localhost:8080/"
        },
        "id": "uAjMyfq4lvDz",
        "outputId": "48bb2f10-18f6-4f63-fcf5-d56529cb5718"
      },
      "execution_count": 4,
      "outputs": [
        {
          "output_type": "stream",
          "name": "stdout",
          "text": [
            "<class 'pandas.core.frame.DataFrame'>\n",
            "RangeIndex: 28678 entries, 0 to 28677\n",
            "Data columns (total 29 columns):\n",
            " #   Column  Non-Null Count  Dtype  \n",
            "---  ------  --------------  -----  \n",
            " 0   V1      28678 non-null  float64\n",
            " 1   V2      28678 non-null  float64\n",
            " 2   V3      28678 non-null  float64\n",
            " 3   V4      28678 non-null  float64\n",
            " 4   V5      28678 non-null  float64\n",
            " 5   V6      28678 non-null  float64\n",
            " 6   V7      28678 non-null  float64\n",
            " 7   V8      28678 non-null  float64\n",
            " 8   V9      28678 non-null  float64\n",
            " 9   V10     28678 non-null  float64\n",
            " 10  V11     28678 non-null  float64\n",
            " 11  V12     28678 non-null  float64\n",
            " 12  V13     28678 non-null  float64\n",
            " 13  V14     28678 non-null  float64\n",
            " 14  V15     28678 non-null  float64\n",
            " 15  V16     28678 non-null  float64\n",
            " 16  V17     28678 non-null  float64\n",
            " 17  V18     28678 non-null  float64\n",
            " 18  V19     28678 non-null  float64\n",
            " 19  V20     28678 non-null  float64\n",
            " 20  V21     28678 non-null  float64\n",
            " 21  V22     28678 non-null  float64\n",
            " 22  V23     28678 non-null  float64\n",
            " 23  V24     28678 non-null  float64\n",
            " 24  V25     28678 non-null  float64\n",
            " 25  V26     28678 non-null  float64\n",
            " 26  V27     28678 non-null  float64\n",
            " 27  V28     28678 non-null  float64\n",
            " 28  Class   28678 non-null  int64  \n",
            "dtypes: float64(28), int64(1)\n",
            "memory usage: 6.3 MB\n"
          ]
        }
      ]
    },
    {
      "cell_type": "code",
      "source": [
        "data.isnull().sum() #결측값 없음"
      ],
      "metadata": {
        "colab": {
          "base_uri": "https://localhost:8080/"
        },
        "id": "AZuuW2XmpOlm",
        "outputId": "80b070fd-9688-4271-acaf-dfca895056b3"
      },
      "execution_count": 5,
      "outputs": [
        {
          "output_type": "execute_result",
          "data": {
            "text/plain": [
              "V1       0\n",
              "V2       0\n",
              "V3       0\n",
              "V4       0\n",
              "V5       0\n",
              "V6       0\n",
              "V7       0\n",
              "V8       0\n",
              "V9       0\n",
              "V10      0\n",
              "V11      0\n",
              "V12      0\n",
              "V13      0\n",
              "V14      0\n",
              "V15      0\n",
              "V16      0\n",
              "V17      0\n",
              "V18      0\n",
              "V19      0\n",
              "V20      0\n",
              "V21      0\n",
              "V22      0\n",
              "V23      0\n",
              "V24      0\n",
              "V25      0\n",
              "V26      0\n",
              "V27      0\n",
              "V28      0\n",
              "Class    0\n",
              "dtype: int64"
            ]
          },
          "metadata": {},
          "execution_count": 5
        }
      ]
    },
    {
      "cell_type": "code",
      "source": [
        "#task: check out if it is fraud transaction or not\n",
        "#check if it's a imbalanced data\n",
        "data.pivot_table(index='Class', aggfunc='size').plot(kind='bar',title = 'Class distribution')"
      ],
      "metadata": {
        "colab": {
          "base_uri": "https://localhost:8080/",
          "height": 310
        },
        "id": "DeZeX2x9uHo1",
        "outputId": "8b35e58f-6a47-4f1f-9f7f-b79e2647654f"
      },
      "execution_count": 6,
      "outputs": [
        {
          "output_type": "execute_result",
          "data": {
            "text/plain": [
              "<matplotlib.axes._subplots.AxesSubplot at 0x7f186bfaf070>"
            ]
          },
          "metadata": {},
          "execution_count": 6
        },
        {
          "output_type": "display_data",
          "data": {
            "text/plain": [
              "<Figure size 432x288 with 1 Axes>"
            ],
            "image/png": "[encoded data removed]"
          },
          "metadata": {
            "needs_background": "light"
          }
        }
      ]
    },
    {
      "cell_type": "code",
      "source": [
        "y = data.Class\n",
        "X = data.drop(['Class'],axis=1)"
      ],
      "metadata": {
        "id": "-DH7Bqmelxau"
      },
      "execution_count": 7,
      "outputs": []
    },
    {
      "cell_type": "code",
      "source": [
        "data"
      ],
      "metadata": {
        "colab": {
          "base_uri": "https://localhost:8080/",
          "height": 488
        },
        "id": "V_oYUgOfGXlf",
        "outputId": "1288bcf7-85e3-428e-af7e-6555143c264c"
      },
      "execution_count": 8,
      "outputs": [
        {
          "output_type": "execute_result",
          "data": {
            "text/plain": [
              "             V1        V2        V3        V4        V5        V6        V7  \\\n",
              "0     -1.848212  2.384900  0.379573  1.048381 -0.845070  2.537837 -4.542983   \n",
              "1      2.071805 -0.477943 -1.444444 -0.548657  0.010036 -0.582242 -0.042878   \n",
              "2     -2.985294 -2.747472  1.194068 -0.003036 -1.151041 -0.263559  0.553500   \n",
              "3     -1.479452  1.542874  0.290895  0.838142 -0.529290 -0.717661  0.484516   \n",
              "4     -0.281976 -0.309699 -2.162299 -0.851514  0.106167 -1.483888  1.930994   \n",
              "...         ...       ...       ...       ...       ...       ...       ...   \n",
              "28673  2.063299  0.015015 -1.042161  0.409655 -0.069835 -1.198490  0.243507   \n",
              "28674  1.264844 -1.228616  1.579098 -0.204514 -1.958881  0.546495 -1.764072   \n",
              "28675  2.072659  0.190048 -1.759688  0.378909  0.556826 -0.769874  0.246899   \n",
              "28676 -0.690637  1.342271  1.498129  2.049774  1.055691  0.677197  0.855445   \n",
              "28677  2.215783 -0.802708 -1.639556 -1.114807 -0.132806 -0.385132 -0.474623   \n",
              "\n",
              "              V8        V9       V10  ...       V20       V21       V22  \\\n",
              "0     -10.201458 -1.504967 -2.234167  ...  2.585817 -5.291690  0.859364   \n",
              "1      -0.247160  1.171923 -0.342382  ... -0.077306  0.042858  0.390125   \n",
              "2       0.635600  0.438545 -1.806488  ...  1.345776  0.373760 -0.385777   \n",
              "3       0.545092 -0.780767  0.324804  ...  0.038397  0.116771  0.405560   \n",
              "4      -0.843049 -1.249272  1.079608  ... -0.875516 -0.004199  1.015108   \n",
              "...          ...       ...       ...  ...       ...       ...       ...   \n",
              "28673  -0.385099  0.408691  0.047861  ... -0.169749 -0.278942 -0.625629   \n",
              "28674   0.470377  1.002209  0.274005  ... -0.125401  0.144909  0.718615   \n",
              "28675  -0.274561  0.380960 -0.405147  ... -0.084170 -0.361188 -0.910782   \n",
              "28676  -0.467242 -0.681576  1.485542  ...  0.030868  0.110939  0.453065   \n",
              "28677  -0.051786 -0.522953  0.989170  ... -0.103507  0.034129  0.022327   \n",
              "\n",
              "            V23       V24       V25       V26       V27       V28  Class  \n",
              "0      0.423231 -0.506985  1.020052 -0.627751 -0.017753  0.280982      0  \n",
              "1      0.041569  0.598427  0.098803  0.979686 -0.093244 -0.065615      0  \n",
              "2      1.197596  0.407229  0.008013  0.762362 -0.299024 -0.303929      0  \n",
              "3     -0.116453  0.541275 -0.216665 -0.415578  0.027126 -0.150347      0  \n",
              "4     -0.026748  0.077115 -1.468822  0.751700  0.496732  0.331001      0  \n",
              "...         ...       ...       ...       ...       ...       ...    ...  \n",
              "28673  0.331276  0.070205 -0.269826  0.192509 -0.064914 -0.058058      0  \n",
              "28674 -0.038493  0.103706  0.341100 -0.009807  0.089794  0.019848      0  \n",
              "28675  0.304372  0.401511 -0.212440  0.177857 -0.058961 -0.029035      0  \n",
              "28676 -0.355346 -0.771072 -0.358505  0.101309 -0.849084 -0.312999      0  \n",
              "28677  0.195771  0.263594 -0.030135 -0.298560 -0.053755 -0.074604      0  \n",
              "\n",
              "[28678 rows x 29 columns]"
            ],
            "text/html": [
              "\n",
              "  <div id=\"df-d3bc639a-ad0b-4281-82e6-b99b1a2f2cee\">\n",
              "    <div class=\"colab-df-container\">\n",
              "      <div>\n",
              "<style scoped>\n",
              "    .dataframe tbody tr th:only-of-type {\n",
              "        vertical-align: middle;\n",
              "    }\n",
              "\n",
              "    .dataframe tbody tr th {\n",
              "        vertical-align: top;\n",
              "    }\n",
              "\n",
              "    .dataframe thead th {\n",
              "        text-align: right;\n",
              "    }\n",
              "</style>\n",
              "<table border=\"1\" class=\"dataframe\">\n",
              "  <thead>\n",
              "    <tr style=\"text-align: right;\">\n",
              "      <th></th>\n",
              "      <th>V1</th>\n",
              "      <th>V2</th>\n",
              "      <th>V3</th>\n",
              "      <th>V4</th>\n",
              "      <th>V5</th>\n",
              "      <th>V6</th>\n",
              "      <th>V7</th>\n",
              "      <th>V8</th>\n",
              "      <th>V9</th>\n",
              "      <th>V10</th>\n",
              "      <th>...</th>\n",
              "      <th>V20</th>\n",
              "      <th>V21</th>\n",
              "      <th>V22</th>\n",
              "      <th>V23</th>\n",
              "      <th>V24</th>\n",
              "      <th>V25</th>\n",
              "      <th>V26</th>\n",
              "      <th>V27</th>\n",
              "      <th>V28</th>\n",
              "      <th>Class</th>\n",
              "    </tr>\n",
              "  </thead>\n",
              "  <tbody>\n",
              "    <tr>\n",
              "      <th>0</th>\n",
              "      <td>-1.848212</td>\n",
              "      <td>2.384900</td>\n",
              "      <td>0.379573</td>\n",
              "      <td>1.048381</td>\n",
              "      <td>-0.845070</td>\n",
              "      <td>2.537837</td>\n",
              "      <td>-4.542983</td>\n",
              "      <td>-10.201458</td>\n",
              "      <td>-1.504967</td>\n",
              "      <td>-2.234167</td>\n",
              "      <td>...</td>\n",
              "      <td>2.585817</td>\n",
              "      <td>-5.291690</td>\n",
              "      <td>0.859364</td>\n",
              "      <td>0.423231</td>\n",
              "      <td>-0.506985</td>\n",
              "      <td>1.020052</td>\n",
              "      <td>-0.627751</td>\n",
              "      <td>-0.017753</td>\n",
              "      <td>0.280982</td>\n",
              "      <td>0</td>\n",
              "    </tr>\n",
              "    <tr>\n",
              "      <th>1</th>\n",
              "      <td>2.071805</td>\n",
              "      <td>-0.477943</td>\n",
              "      <td>-1.444444</td>\n",
              "      <td>-0.548657</td>\n",
              "      <td>0.010036</td>\n",
              "      <td>-0.582242</td>\n",
              "      <td>-0.042878</td>\n",
              "      <td>-0.247160</td>\n",
              "      <td>1.171923</td>\n",
              "      <td>-0.342382</td>\n",
              "      <td>...</td>\n",
              "      <td>-0.077306</td>\n",
              "      <td>0.042858</td>\n",
              "      <td>0.390125</td>\n",
              "      <td>0.041569</td>\n",
              "      <td>0.598427</td>\n",
              "      <td>0.098803</td>\n",
              "      <td>0.979686</td>\n",
              "      <td>-0.093244</td>\n",
              "      <td>-0.065615</td>\n",
              "      <td>0</td>\n",
              "    </tr>\n",
              "    <tr>\n",
              "      <th>2</th>\n",
              "      <td>-2.985294</td>\n",
              "      <td>-2.747472</td>\n",
              "      <td>1.194068</td>\n",
              "      <td>-0.003036</td>\n",
              "      <td>-1.151041</td>\n",
              "      <td>-0.263559</td>\n",
              "      <td>0.553500</td>\n",
              "      <td>0.635600</td>\n",
              "      <td>0.438545</td>\n",
              "      <td>-1.806488</td>\n",
              "      <td>...</td>\n",
              "      <td>1.345776</td>\n",
              "      <td>0.373760</td>\n",
              "      <td>-0.385777</td>\n",
              "      <td>1.197596</td>\n",
              "      <td>0.407229</td>\n",
              "      <td>0.008013</td>\n",
              "      <td>0.762362</td>\n",
              "      <td>-0.299024</td>\n",
              "      <td>-0.303929</td>\n",
              "      <td>0</td>\n",
              "    </tr>\n",
              "    <tr>\n",
              "      <th>3</th>\n",
              "      <td>-1.479452</td>\n",
              "      <td>1.542874</td>\n",
              "      <td>0.290895</td>\n",
              "      <td>0.838142</td>\n",
              "      <td>-0.529290</td>\n",
              "      <td>-0.717661</td>\n",
              "      <td>0.484516</td>\n",
              "      <td>0.545092</td>\n",
              "      <td>-0.780767</td>\n",
              "      <td>0.324804</td>\n",
              "      <td>...</td>\n",
              "      <td>0.038397</td>\n",
              "      <td>0.116771</td>\n",
              "      <td>0.405560</td>\n",
              "      <td>-0.116453</td>\n",
              "      <td>0.541275</td>\n",
              "      <td>-0.216665</td>\n",
              "      <td>-0.415578</td>\n",
              "      <td>0.027126</td>\n",
              "      <td>-0.150347</td>\n",
              "      <td>0</td>\n",
              "    </tr>\n",
              "    <tr>\n",
              "      <th>4</th>\n",
              "      <td>-0.281976</td>\n",
              "      <td>-0.309699</td>\n",
              "      <td>-2.162299</td>\n",
              "      <td>-0.851514</td>\n",
              "      <td>0.106167</td>\n",
              "      <td>-1.483888</td>\n",
              "      <td>1.930994</td>\n",
              "      <td>-0.843049</td>\n",
              "      <td>-1.249272</td>\n",
              "      <td>1.079608</td>\n",
              "      <td>...</td>\n",
              "      <td>-0.875516</td>\n",
              "      <td>-0.004199</td>\n",
              "      <td>1.015108</td>\n",
              "      <td>-0.026748</td>\n",
              "      <td>0.077115</td>\n",
              "      <td>-1.468822</td>\n",
              "      <td>0.751700</td>\n",
              "      <td>0.496732</td>\n",
              "      <td>0.331001</td>\n",
              "      <td>0</td>\n",
              "    </tr>\n",
              "    <tr>\n",
              "      <th>...</th>\n",
              "      <td>...</td>\n",
              "      <td>...</td>\n",
              "      <td>...</td>\n",
              "      <td>...</td>\n",
              "      <td>...</td>\n",
              "      <td>...</td>\n",
              "      <td>...</td>\n",
              "      <td>...</td>\n",
              "      <td>...</td>\n",
              "      <td>...</td>\n",
              "      <td>...</td>\n",
              "      <td>...</td>\n",
              "      <td>...</td>\n",
              "      <td>...</td>\n",
              "      <td>...</td>\n",
              "      <td>...</td>\n",
              "      <td>...</td>\n",
              "      <td>...</td>\n",
              "      <td>...</td>\n",
              "      <td>...</td>\n",
              "      <td>...</td>\n",
              "    </tr>\n",
              "    <tr>\n",
              "      <th>28673</th>\n",
              "      <td>2.063299</td>\n",
              "      <td>0.015015</td>\n",
              "      <td>-1.042161</td>\n",
              "      <td>0.409655</td>\n",
              "      <td>-0.069835</td>\n",
              "      <td>-1.198490</td>\n",
              "      <td>0.243507</td>\n",
              "      <td>-0.385099</td>\n",
              "      <td>0.408691</td>\n",
              "      <td>0.047861</td>\n",
              "      <td>...</td>\n",
              "      <td>-0.169749</td>\n",
              "      <td>-0.278942</td>\n",
              "      <td>-0.625629</td>\n",
              "      <td>0.331276</td>\n",
              "      <td>0.070205</td>\n",
              "      <td>-0.269826</td>\n",
              "      <td>0.192509</td>\n",
              "      <td>-0.064914</td>\n",
              "      <td>-0.058058</td>\n",
              "      <td>0</td>\n",
              "    </tr>\n",
              "    <tr>\n",
              "      <th>28674</th>\n",
              "      <td>1.264844</td>\n",
              "      <td>-1.228616</td>\n",
              "      <td>1.579098</td>\n",
              "      <td>-0.204514</td>\n",
              "      <td>-1.958881</td>\n",
              "      <td>0.546495</td>\n",
              "      <td>-1.764072</td>\n",
              "      <td>0.470377</td>\n",
              "      <td>1.002209</td>\n",
              "      <td>0.274005</td>\n",
              "      <td>...</td>\n",
              "      <td>-0.125401</td>\n",
              "      <td>0.144909</td>\n",
              "      <td>0.718615</td>\n",
              "      <td>-0.038493</td>\n",
              "      <td>0.103706</td>\n",
              "      <td>0.341100</td>\n",
              "      <td>-0.009807</td>\n",
              "      <td>0.089794</td>\n",
              "      <td>0.019848</td>\n",
              "      <td>0</td>\n",
              "    </tr>\n",
              "    <tr>\n",
              "      <th>28675</th>\n",
              "      <td>2.072659</td>\n",
              "      <td>0.190048</td>\n",
              "      <td>-1.759688</td>\n",
              "      <td>0.378909</td>\n",
              "      <td>0.556826</td>\n",
              "      <td>-0.769874</td>\n",
              "      <td>0.246899</td>\n",
              "      <td>-0.274561</td>\n",
              "      <td>0.380960</td>\n",
              "      <td>-0.405147</td>\n",
              "      <td>...</td>\n",
              "      <td>-0.084170</td>\n",
              "      <td>-0.361188</td>\n",
              "      <td>-0.910782</td>\n",
              "      <td>0.304372</td>\n",
              "      <td>0.401511</td>\n",
              "      <td>-0.212440</td>\n",
              "      <td>0.177857</td>\n",
              "      <td>-0.058961</td>\n",
              "      <td>-0.029035</td>\n",
              "      <td>0</td>\n",
              "    </tr>\n",
              "    <tr>\n",
              "      <th>28676</th>\n",
              "      <td>-0.690637</td>\n",
              "      <td>1.342271</td>\n",
              "      <td>1.498129</td>\n",
              "      <td>2.049774</td>\n",
              "      <td>1.055691</td>\n",
              "      <td>0.677197</td>\n",
              "      <td>0.855445</td>\n",
              "      <td>-0.467242</td>\n",
              "      <td>-0.681576</td>\n",
              "      <td>1.485542</td>\n",
              "      <td>...</td>\n",
              "      <td>0.030868</td>\n",
              "      <td>0.110939</td>\n",
              "      <td>0.453065</td>\n",
              "      <td>-0.355346</td>\n",
              "      <td>-0.771072</td>\n",
              "      <td>-0.358505</td>\n",
              "      <td>0.101309</td>\n",
              "      <td>-0.849084</td>\n",
              "      <td>-0.312999</td>\n",
              "      <td>0</td>\n",
              "    </tr>\n",
              "    <tr>\n",
              "      <th>28677</th>\n",
              "      <td>2.215783</td>\n",
              "      <td>-0.802708</td>\n",
              "      <td>-1.639556</td>\n",
              "      <td>-1.114807</td>\n",
              "      <td>-0.132806</td>\n",
              "      <td>-0.385132</td>\n",
              "      <td>-0.474623</td>\n",
              "      <td>-0.051786</td>\n",
              "      <td>-0.522953</td>\n",
              "      <td>0.989170</td>\n",
              "      <td>...</td>\n",
              "      <td>-0.103507</td>\n",
              "      <td>0.034129</td>\n",
              "      <td>0.022327</td>\n",
              "      <td>0.195771</td>\n",
              "      <td>0.263594</td>\n",
              "      <td>-0.030135</td>\n",
              "      <td>-0.298560</td>\n",
              "      <td>-0.053755</td>\n",
              "      <td>-0.074604</td>\n",
              "      <td>0</td>\n",
              "    </tr>\n",
              "  </tbody>\n",
              "</table>\n",
              "<p>28678 rows × 29 columns</p>\n",
              "</div>\n",
              "      <button class=\"colab-df-convert\" onclick=\"convertToInteractive('df-d3bc639a-ad0b-4281-82e6-b99b1a2f2cee')\"\n",
              "              title=\"Convert this dataframe to an interactive table.\"\n",
              "              style=\"display:none;\">\n",
              "        \n",
              "  <svg xmlns=\"http://www.w3.org/2000/svg\" height=\"24px\"viewBox=\"0 0 24 24\"\n",
              "       width=\"24px\">\n",
              "    <path d=\"M0 0h24v24H0V0z\" fill=\"none\"/>\n",
              "    <path d=\"M18.56 5.44l.94 2.06.94-2.06 2.06-.94-2.06-.94-.94-2.06-.94 2.06-2.06.94zm-11 1L8.5 8.5l.94-2.06 2.06-.94-2.06-.94L8.5 2.5l-.94 2.06-2.06.94zm10 10l.94 2.06.94-2.06 2.06-.94-2.06-.94-.94-2.06-.94 2.06-2.06.94z\"/><path d=\"M17.41 7.96l-1.37-1.37c-.4-.4-.92-.59-1.43-.59-.52 0-1.04.2-1.43.59L10.3 9.45l-7.72 7.72c-.78.78-.78 2.05 0 2.83L4 21.41c.39.39.9.59 1.41.59.51 0 1.02-.2 1.41-.59l7.78-7.78 2.81-2.81c.8-.78.8-2.07 0-2.86zM5.41 20L4 18.59l7.72-7.72 1.47 1.35L5.41 20z\"/>\n",
              "  </svg>\n",
              "      </button>\n",
              "      \n",
              "  <style>\n",
              "    .colab-df-container {\n",
              "      display:flex;\n",
              "      flex-wrap:wrap;\n",
              "      gap: 12px;\n",
              "    }\n",
              "\n",
              "    .colab-df-convert {\n",
              "      background-color: #E8F0FE;\n",
              "      border: none;\n",
              "      border-radius: 50%;\n",
              "      cursor: pointer;\n",
              "      display: none;\n",
              "      fill: #1967D2;\n",
              "      height: 32px;\n",
              "      padding: 0 0 0 0;\n",
              "      width: 32px;\n",
              "    }\n",
              "\n",
              "    .colab-df-convert:hover {\n",
              "      background-color: #E2EBFA;\n",
              "      box-shadow: 0px 1px 2px rgba(60, 64, 67, 0.3), 0px 1px 3px 1px rgba(60, 64, 67, 0.15);\n",
              "      fill: #174EA6;\n",
              "    }\n",
              "\n",
              "    [theme=dark] .colab-df-convert {\n",
              "      background-color: #3B4455;\n",
              "      fill: #D2E3FC;\n",
              "    }\n",
              "\n",
              "    [theme=dark] .colab-df-convert:hover {\n",
              "      background-color: #434B5C;\n",
              "      box-shadow: 0px 1px 3px 1px rgba(0, 0, 0, 0.15);\n",
              "      filter: drop-shadow(0px 1px 2px rgba(0, 0, 0, 0.3));\n",
              "      fill: #FFFFFF;\n",
              "    }\n",
              "  </style>\n",
              "\n",
              "      <script>\n",
              "        const buttonEl =\n",
              "          document.querySelector('#df-d3bc639a-ad0b-4281-82e6-b99b1a2f2cee button.colab-df-convert');\n",
              "        buttonEl.style.display =\n",
              "          google.colab.kernel.accessAllowed ? 'block' : 'none';\n",
              "\n",
              "        async function convertToInteractive(key) {\n",
              "          const element = document.querySelector('#df-d3bc639a-ad0b-4281-82e6-b99b1a2f2cee');\n",
              "          const dataTable =\n",
              "            await google.colab.kernel.invokeFunction('convertToInteractive',\n",
              "                                                     [key], {});\n",
              "          if (!dataTable) return;\n",
              "\n",
              "          const docLinkHtml = 'Like what you see? Visit the ' +\n",
              "            '<a target=\"_blank\" href=https://colab.research.google.com/notebooks/data_table.ipynb>data table notebook</a>'\n",
              "            + ' to learn more about interactive tables.';\n",
              "          element.innerHTML = '';\n",
              "          dataTable['output_type'] = 'display_data';\n",
              "          await google.colab.output.renderOutput(dataTable, element);\n",
              "          const docLink = document.createElement('div');\n",
              "          docLink.innerHTML = docLinkHtml;\n",
              "          element.appendChild(docLink);\n",
              "        }\n",
              "      </script>\n",
              "    </div>\n",
              "  </div>\n",
              "  "
            ]
          },
          "metadata": {},
          "execution_count": 8
        }
      ]
    },
    {
      "cell_type": "markdown",
      "source": [
        "확실히 fraud case가 적음을 알 수 있다.이에 유의하여 진행.\n",
        "\n",
        "성능개선 하기 전, 그냥 raw data에 회귀분석 진행 후 성능 확인을 진행해보자"
      ],
      "metadata": {
        "id": "0c2pwDMVpvpe"
      }
    },
    {
      "cell_type": "code",
      "source": [
        "from sklearn.linear_model import LogisticRegression\n",
        "from sklearn.model_selection import train_test_split\n",
        "#데이터 분할\n",
        "X_train, X_test, y_train, y_test = train_test_split(X, y, test_size=0.2, random_state = 42, stratify = y )\n"
      ],
      "metadata": {
        "id": "ItghttUBpyxN"
      },
      "execution_count": 9,
      "outputs": []
    },
    {
      "cell_type": "markdown",
      "source": [
        "Baseline model"
      ],
      "metadata": {
        "id": "DxxY5DI2upjo"
      }
    },
    {
      "cell_type": "code",
      "source": [
        "#모델인스턴스\n",
        "model = LogisticRegression()\n",
        "model.fit(X_train, y_train)\n",
        "#predict\n",
        "preds = model.predict(X_test)"
      ],
      "metadata": {
        "id": "c-RVDqVkqv-J"
      },
      "execution_count": 10,
      "outputs": []
    },
    {
      "cell_type": "code",
      "source": [
        "from sklearn.metrics import accuracy_score\n",
        "accuracy_score(y_test,preds)"
      ],
      "metadata": {
        "colab": {
          "base_uri": "https://localhost:8080/"
        },
        "id": "FH3rzGcWrwvs",
        "outputId": "e12761e7-f28c-4416-c8bc-547ea1674051"
      },
      "execution_count": 11,
      "outputs": [
        {
          "output_type": "execute_result",
          "data": {
            "text/plain": [
              "0.997907949790795"
            ]
          },
          "metadata": {},
          "execution_count": 11
        }
      ]
    },
    {
      "cell_type": "markdown",
      "source": [
        "Accuracy metric은, 여기서 놀랍게도 아무런 전처리 및 하이퍼파라미터튜닝을 하지 않았는데도 99%에 가까운 성능을 보인다.\n",
        "\n",
        "이에 대한 해석을 잠시 해보자면 다음과 같다.\n",
        "\n",
        "현재 우리가 가지고 있는 data는 심하게 imbalanced data이다 \n",
        "Accuracy의 정의를 떠올려보면, \n",
        "\n",
        "ACCURACY = # of correct predictions / # of total predicitions이다.\n",
        "\n",
        "Accuracy는, classifcation tast에서 class별로 거의 비슷한 distribution을 가지는 경우에서 좋은 metric이다.\n",
        "\n",
        "모델 입장에서는, 우리가 가진 데이터와 같이 심히 편중된 분포를 가지는 데이터를 주고 예측을 하라고 하면 당연히 다 majority class로 예측을 하는 것이 훨씬 편한 방법일 것이다.\n",
        "\n",
        "여기서 중요한 objective는, minority class인 친구들을 맞춰야한다는 것이기 때문에, 다른 metric에 대한 고려가 필요하다"
      ],
      "metadata": {
        "id": "vhXVz1ygvDQf"
      }
    },
    {
      "cell_type": "markdown",
      "source": [
        "Imbalanced data를 가지고 classifcation 문제를 풀기 위해서는 resampling 을 통해(동등한 distribution을 가지도록 resample, e.g.Undersampling, Oversampling, SMOTE (Augumentation) 해결하거나\n",
        "\n",
        "혹은 Accuracy metric 말고 다른 metric(recall, precision, f1score)등의 지표들로서 모델을 평가하는 방법이 있다."
      ],
      "metadata": {
        "id": "I119NXoAwUg4"
      }
    },
    {
      "cell_type": "markdown",
      "source": [
        "모델 성능 개선을 위해, 다른 지표들로도 baseline 모델의 성능을 보자"
      ],
      "metadata": {
        "id": "ZgYq1m2yxIGs"
      }
    },
    {
      "cell_type": "code",
      "source": [
        "from sklearn.metrics import precision_score, recall_score\n",
        "print('Precision is: ', precision_score(y_test, preds))\n",
        "print('Recall is: ', recall_score(y_test, preds))"
      ],
      "metadata": {
        "colab": {
          "base_uri": "https://localhost:8080/"
        },
        "id": "oY6tj8d9xHb9",
        "outputId": "72d1e43e-62ac-460e-c7b8-47f89726f66b"
      },
      "execution_count": 12,
      "outputs": [
        {
          "output_type": "stream",
          "name": "stdout",
          "text": [
            "Precision is:  0.9743589743589743\n",
            "Recall is:  0.7755102040816326\n"
          ]
        }
      ]
    },
    {
      "cell_type": "code",
      "source": [
        "from sklearn.metrics import *"
      ],
      "metadata": {
        "id": "xkOiLvV4HZ-5"
      },
      "execution_count": 13,
      "outputs": []
    },
    {
      "cell_type": "code",
      "source": [
        "tn, fp, fn, tp = confusion_matrix(y_test, preds).ravel()\n",
        "\n",
        "p = fn + tp\n",
        "n = tn + fp"
      ],
      "metadata": {
        "id": "W2gPMeTjHOVs"
      },
      "execution_count": 14,
      "outputs": []
    },
    {
      "cell_type": "code",
      "source": [
        "#precision:Positive 예측한 데이터 중 실제 positive 인 비율\n",
        "precision = tp/ (tp + fp)\n",
        "print(\"Precision : \", precision)\n",
        "#recall:원래 positive 중 에서 positive 로 분류된 비율\n",
        "recall = (tp) / p\n",
        "print(\"Recall : \", recall) #직접계산"
      ],
      "metadata": {
        "colab": {
          "base_uri": "https://localhost:8080/"
        },
        "id": "eerjXI4xHdZK",
        "outputId": "5201b4d6-a90a-47d9-f13c-e217961b1452"
      },
      "execution_count": 15,
      "outputs": [
        {
          "output_type": "stream",
          "name": "stdout",
          "text": [
            "Precision :  0.9743589743589743\n",
            "Recall :  0.7755102040816326\n"
          ]
        }
      ]
    },
    {
      "cell_type": "markdown",
      "source": [
        "precision의 경우, 모델이 Positive라고 예측한 비율 중 True positive의 비율을 의미한다.\n",
        "\n",
        "Recall은, 실제 Positive 데이터 중 Positive라고 예측한 비율을 의미한다.\n",
        "\n",
        "(Precision과 Recall은 tradeoff 관계)\n",
        "\n",
        "두 지표 모두 모델의 성능을 확인하는데 중요하며, 이를 조화 평균한 값인 f1score도 확인할 필요가 있다.\n",
        "\n"
      ],
      "metadata": {
        "id": "4SrSYCOH2YTb"
      }
    },
    {
      "cell_type": "code",
      "source": [
        "from sklearn.metrics import f1_score\n",
        "print('F1Score is: ', f1_score(y_test, preds))\n",
        "#실제로 이러한 imbalanced 한 class에서의 classification문제를 풀때 f1score을 많이 사용한다."
      ],
      "metadata": {
        "colab": {
          "base_uri": "https://localhost:8080/"
        },
        "id": "hgo8HGj13c8U",
        "outputId": "f8cc1cc7-80f8-4e4b-a002-8646c3b1f830"
      },
      "execution_count": 16,
      "outputs": [
        {
          "output_type": "stream",
          "name": "stdout",
          "text": [
            "F1Score is:  0.8636363636363635\n"
          ]
        }
      ]
    },
    {
      "cell_type": "code",
      "source": [
        "data.Class.value_counts()"
      ],
      "metadata": {
        "colab": {
          "base_uri": "https://localhost:8080/"
        },
        "id": "N3iq1E4HJRVz",
        "outputId": "1ed3ef3e-40f2-4602-8a0a-d199f2132898"
      },
      "execution_count": 17,
      "outputs": [
        {
          "output_type": "execute_result",
          "data": {
            "text/plain": [
              "0    28432\n",
              "1      246\n",
              "Name: Class, dtype: int64"
            ]
          },
          "metadata": {},
          "execution_count": 17
        }
      ]
    },
    {
      "cell_type": "markdown",
      "source": [
        "#모델성능개선"
      ],
      "metadata": {
        "id": "onee90kB4M0G"
      }
    },
    {
      "cell_type": "markdown",
      "source": [
        "Improve model with thresholds\n",
        "\n",
        "불균형한 데이터, 특히 0이 압도적으로 많은 상황이다. Recall과 precision을 적절히 조화평균한 f1score을 높이는 방향으로 모델성능을 개선시도해보자.\n",
        "\n"
      ],
      "metadata": {
        "id": "Yi5WgdMlw6rg"
      }
    },
    {
      "cell_type": "code",
      "source": [
        "from sklearn.metrics import *\n",
        "from plotnine import *\n"
      ],
      "metadata": {
        "id": "av-gKRu4jwVf"
      },
      "execution_count": 18,
      "outputs": []
    },
    {
      "cell_type": "code",
      "source": [],
      "metadata": {
        "id": "Chx7sRGeqvTk"
      },
      "execution_count": null,
      "outputs": []
    },
    {
      "cell_type": "code",
      "source": [
        "y_pred = model.predict_proba(X_test)\n",
        "y_pred = y_pred[:,1]"
      ],
      "metadata": {
        "id": "js9fJGzRmJi3"
      },
      "execution_count": 33,
      "outputs": []
    },
    {
      "cell_type": "markdown",
      "source": [
        "threshold 조정을 통해 성능개선을 시도하였습니다. threshold를 0.0001 단위로 쪼개어, 10000개의 testing을 진행하는 grid-search 방식의 코드가 있어 적용해보았습니다.\n",
        "\n",
        "출처: https://towardsdatascience.com/optimal-threshold-for-imbalanced-classification-5884e870c293"
      ],
      "metadata": {
        "id": "X71xYfVAqwvr"
      }
    },
    {
      "cell_type": "code",
      "source": [
        "import plotnine\n",
        "# Array for finding the optimal threshold\n",
        "thresholds = np.arange(0.0, 1.0, 0.0001)\n",
        "fscore = np.zeros(shape=(len(thresholds)))\n",
        "print('Length of sequence: {}'.format(len(thresholds)))\n",
        "\n",
        "# Fit the model\n",
        "for index, elem in enumerate(thresholds):\n",
        "    # Corrected probabilities\n",
        "    y_pred_prob = (y_pred > elem).astype('int')\n",
        "    # Calculate the f-score\n",
        "    fscore[index] = f1_score(y_test, y_pred_prob)\n",
        "\n",
        "# Find the optimal threshold\n",
        "index = np.argmax(fscore)\n",
        "thresholdOpt = round(thresholds[index], ndigits = 4)\n",
        "fscoreOpt = round(fscore[index], ndigits = 4)\n",
        "print('Best Threshold: {} with F-Score: {}'.format(thresholdOpt, fscoreOpt))\n",
        "\n",
        "# Plot the threshold tuning\n",
        "df_threshold_tuning = pd.DataFrame({'F-score':fscore,\n",
        "                                    'Threshold':thresholds})\n",
        "df_threshold_tuning.head()\n",
        "\n",
        "plotnine.options.figure_size = (8, 4.8)\n",
        "(\n",
        "    ggplot(data = df_threshold_tuning)+\n",
        "    geom_point(aes(x = 'Threshold',\n",
        "                   y = 'F-score'),\n",
        "               size = 0.4)+\n",
        "    # Best threshold\n",
        "    geom_point(aes(x = thresholdOpt,\n",
        "                   y = fscoreOpt),\n",
        "               color = '#981220',\n",
        "               size = 4)+\n",
        "    geom_line(aes(x = 'Threshold',\n",
        "                   y = 'F-score'))+\n",
        "    # Annotate the text\n",
        "    geom_text(aes(x = thresholdOpt,\n",
        "                  y = fscoreOpt),\n",
        "              label = 'Optimal threshold \\n for class: {}'.format(thresholdOpt),\n",
        "              nudge_x = 0,\n",
        "              nudge_y = -0.10,\n",
        "              size = 10,\n",
        "              fontstyle = 'italic')+\n",
        "    labs(title = 'Threshold Tuning Curve')+\n",
        "    xlab('Threshold')+\n",
        "    ylab('F-score')+\n",
        "    theme_minimal()\n",
        ")\n"
      ],
      "metadata": {
        "colab": {
          "base_uri": "https://localhost:8080/",
          "height": 541
        },
        "id": "rVkthdF3kAdk",
        "outputId": "eba1a0d6-ac3c-4a22-a031-622be34d7240"
      },
      "execution_count": 38,
      "outputs": [
        {
          "output_type": "stream",
          "name": "stdout",
          "text": [
            "Length of sequence: 10000\n",
            "Best Threshold: 0.0799 with F-Score: 0.8776\n"
          ]
        },
        {
          "output_type": "display_data",
          "data": {
            "text/plain": [
              "<Figure size 800x480 with 1 Axes>"
            ],
            "image/png": "[encoded data removed]"
          },
          "metadata": {
            "needs_background": "light"
          }
        },
        {
          "output_type": "execute_result",
          "data": {
            "text/plain": [
              "<ggplot: (8733909861855)>"
            ]
          },
          "metadata": {},
          "execution_count": 38
        }
      ]
    },
    {
      "cell_type": "code",
      "source": [
        "y_predict_prob = model.predict_proba(X_test)\n",
        "y_predict_prob_class_1 = y_predict_prob[:,1]\n",
        "y_predict_class = [1 if prob > 0.0799 else 0 for prob in y_predict_prob_class_1]\n",
        "print(\"F1Score:\", f1_score(y_test, y_predict_class))\n",
        "#미약하게나마 개선된 모습을 보입니다."
      ],
      "metadata": {
        "colab": {
          "base_uri": "https://localhost:8080/"
        },
        "id": "fsFYnkc0k70S",
        "outputId": "b107843e-fd59-46db-c3c5-eceb9dc87d75"
      },
      "execution_count": 39,
      "outputs": [
        {
          "output_type": "stream",
          "name": "stdout",
          "text": [
            "F1Score: 0.8775510204081631\n"
          ]
        }
      ]
    },
    {
      "cell_type": "code",
      "source": [],
      "metadata": {
        "id": "MwTNwi0Hp_b7"
      },
      "execution_count": null,
      "outputs": []
    }
  ],
  "metadata": {
    "colab": {
      "provenance": [],
      "include_colab_link": true
    },
    "kernelspec": {
      "display_name": "Python 3",
      "language": "python",
      "name": "python3"
    },
    "language_info": {
      "codemirror_mode": {
        "name": "ipython",
        "version": 3
      },
      "file_extension": ".py",
      "mimetype": "text/x-python",
      "name": "python",
      "nbconvert_exporter": "python",
      "pygments_lexer": "ipython3",
      "version": "3.8.5"
    }
  },
  "nbformat": 4,
  "nbformat_minor": 0
}