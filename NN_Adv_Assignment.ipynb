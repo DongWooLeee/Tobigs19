{
 "cells": [
  {
   "cell_type": "markdown",
   "id": "b0ba9b89",
   "metadata": {},
   "source": [
    "## NN Adv Assignment"
   ]
  },
  {
   "cell_type": "code",
   "execution_count": 42,
   "id": "80f09603",
   "metadata": {},
   "outputs": [],
   "source": [
    "import numpy as np\n",
    "import pandas as pd\n",
    "import matplotlib.pyplot as plt\n",
    "\n",
    "### Pytorch\n",
    "\n",
    "import torch\n",
    "import torch.nn as nn\n",
    "import torch.nn.functional as F\n",
    "\n",
    "### TensorFlow\n",
    "\n",
    "import tensorflow as tf\n",
    "from tensorflow import keras\n",
    "\n",
    "import warnings\n",
    "warnings.filterwarnings(action='ignore')"
   ]
  },
  {
   "cell_type": "markdown",
   "id": "7e8c1bab",
   "metadata": {},
   "source": [
    "### Load Data"
   ]
  },
  {
   "cell_type": "code",
   "execution_count": 43,
   "id": "b3eb5f5d",
   "metadata": {},
   "outputs": [],
   "source": [
    "train = pd.read_csv('Train.csv')\n",
    "test = pd.read_csv('Test.csv')"
   ]
  },
  {
   "cell_type": "code",
   "execution_count": 45,
   "id": "4e92830d",
   "metadata": {},
   "outputs": [
    {
     "data": {
      "text/plain": [
       "10"
      ]
     },
     "execution_count": 45,
     "metadata": {},
     "output_type": "execute_result"
    }
   ],
   "source": [
    "train['label'].nunique()"
   ]
  },
  {
   "cell_type": "code",
   "execution_count": 46,
   "id": "4e0fd6fe",
   "metadata": {},
   "outputs": [],
   "source": [
    "X = train.iloc[:, :-1].values\n",
    "X = X.reshape(-1, 28, 28, 1)\n",
    "y = train.iloc[:, -1].values"
   ]
  },
  {
   "cell_type": "code",
   "execution_count": 47,
   "id": "24901a3c",
   "metadata": {},
   "outputs": [],
   "source": [
    "X_test = test.values\n",
    "X_test = X_test.reshape(-1,28, 28,1)"
   ]
  },
  {
   "cell_type": "markdown",
   "id": "c2df1b99",
   "metadata": {},
   "source": [
    "### Train-Test Split"
   ]
  },
  {
   "cell_type": "code",
   "execution_count": 48,
   "id": "7b16076f",
   "metadata": {},
   "outputs": [],
   "source": [
    "from sklearn.model_selection import train_test_split\n",
    "\n",
    "X_train, X_val, y_train, y_val = train_test_split(X, y, test_size = 0.2, random_state = 42, stratify = y, shuffle = True)\n",
    "\n",
    "# 정규화\n",
    "X_train = X_train / 255.0\n",
    "X_val = X_val / 255.0\n",
    "X_test = X_test / 255.0"
   ]
  },
  {
   "cell_type": "code",
   "execution_count": 49,
   "id": "23efd198",
   "metadata": {},
   "outputs": [],
   "source": [
    "BATCH_SIZE = 128\n",
    "EPOCHS = 15"
   ]
  },
  {
   "cell_type": "code",
   "execution_count": 50,
   "id": "6decdae1",
   "metadata": {},
   "outputs": [
    {
     "name": "stdout",
     "output_type": "stream",
     "text": [
      "Model: \"sequential_2\"\n",
      "_________________________________________________________________\n",
      " Layer (type)                Output Shape              Param #   \n",
      "=================================================================\n",
      " flatten_2 (Flatten)         (None, 784)               0         \n",
      "                                                                 \n",
      " dense_8 (Dense)             (None, 512)               401920    \n",
      "                                                                 \n",
      " dense_9 (Dense)             (None, 256)               131328    \n",
      "                                                                 \n",
      " dense_10 (Dense)            (None, 128)               32896     \n",
      "                                                                 \n",
      " dense_11 (Dense)            (None, 10)                1290      \n",
      "                                                                 \n",
      "=================================================================\n",
      "Total params: 567,434\n",
      "Trainable params: 567,434\n",
      "Non-trainable params: 0\n",
      "_________________________________________________________________\n"
     ]
    }
   ],
   "source": [
    "model = keras.Sequential([\n",
    "    keras.layers.Flatten(input_shape = (28,28)),\n",
    "    keras.layers.Dense(512,activation='relu'),\n",
    "    keras.layers.Dense(256, activation='relu'),\n",
    "    keras.layers.Dense(128,activation='relu'),\n",
    "    keras.layers.Dense(10,activation='softmax')\n",
    "\n",
    "])\n",
    "\n",
    "model.summary()"
   ]
  },
  {
   "cell_type": "code",
   "execution_count": 51,
   "id": "94cc56ae",
   "metadata": {},
   "outputs": [],
   "source": [
    "initializer = keras.initializers.HeUniform(seed = 42)\n",
    "optimizer = keras.optimizers.Adam(lr=0.01)\n",
    "model.compile(optimizer=optimizer,\n",
    "              loss=tf.keras.losses.SparseCategoricalCrossentropy(from_logits=True),\n",
    "              metrics=['accuracy'])"
   ]
  },
  {
   "cell_type": "code",
   "execution_count": 52,
   "id": "e9f5ae61",
   "metadata": {},
   "outputs": [
    {
     "name": "stdout",
     "output_type": "stream",
     "text": [
      "Epoch 1/10\n",
      "1488/1488 [==============================] - 6s 4ms/step - loss: 0.6258 - accuracy: 0.7830 - val_loss: 0.5958 - val_accuracy: 0.8149\n",
      "Epoch 2/10\n",
      "1488/1488 [==============================] - 5s 3ms/step - loss: 0.4835 - accuracy: 0.8298 - val_loss: 0.4593 - val_accuracy: 0.8373\n",
      "Epoch 3/10\n",
      "1488/1488 [==============================] - 5s 3ms/step - loss: 0.4546 - accuracy: 0.8389 - val_loss: 0.4562 - val_accuracy: 0.8394\n",
      "Epoch 4/10\n",
      "1488/1488 [==============================] - 5s 3ms/step - loss: 0.4510 - accuracy: 0.8408 - val_loss: 0.4818 - val_accuracy: 0.8398\n",
      "Epoch 5/10\n",
      "1488/1488 [==============================] - 5s 4ms/step - loss: 0.4247 - accuracy: 0.8476 - val_loss: 0.4156 - val_accuracy: 0.8545\n",
      "Epoch 6/10\n",
      "1488/1488 [==============================] - 5s 4ms/step - loss: 0.4171 - accuracy: 0.8516 - val_loss: 0.4266 - val_accuracy: 0.8550\n",
      "Epoch 7/10\n",
      "1488/1488 [==============================] - 5s 4ms/step - loss: 0.4057 - accuracy: 0.8580 - val_loss: 0.4370 - val_accuracy: 0.8473\n",
      "Epoch 8/10\n",
      "1488/1488 [==============================] - 5s 3ms/step - loss: 0.4051 - accuracy: 0.8585 - val_loss: 0.4198 - val_accuracy: 0.8571\n",
      "Epoch 9/10\n",
      "1488/1488 [==============================] - 5s 4ms/step - loss: 0.4068 - accuracy: 0.8564 - val_loss: 0.4085 - val_accuracy: 0.8579\n",
      "Epoch 10/10\n",
      "1488/1488 [==============================] - 5s 4ms/step - loss: 0.4008 - accuracy: 0.8608 - val_loss: 0.4606 - val_accuracy: 0.8437\n"
     ]
    }
   ],
   "source": [
    "result = model.fit(X_train, y_train, epochs=10, validation_data = (X_val, y_val))\n"
   ]
  },
  {
   "cell_type": "code",
   "execution_count": 35,
   "id": "4e1972c4",
   "metadata": {},
   "outputs": [
    {
     "data": {
      "image/png": "[encoded data removed]",
      "text/plain": [
       "<Figure size 1080x360 with 2 Axes>"
      ]
     },
     "metadata": {
      "needs_background": "light"
     },
     "output_type": "display_data"
    }
   ],
   "source": [
    "fig, axes = plt.subplots(nrows=1, ncols=2, figsize=(15, 5))\n",
    "\n",
    "axes[0].plot(result.epoch, result.history[\"loss\"], label='Train Loss')\n",
    "axes[0].plot(result.epoch, result.history['val_loss'], label='Val Loss')\n",
    "axes[0].set_ylim(0.0, 1)\n",
    "axes[0].legend()\n",
    "axes[0].set_title('Loss')\n",
    "\n",
    "axes[1].plot(result.epoch, result.history['accuracy'], label='Train Accuracy')\n",
    "axes[1].plot(result.epoch, result.history['val_accuracy'], label='Val Accuracy')\n",
    "axes[1].set_ylim(0.7, 1)\n",
    "axes[1].legend()\n",
    "axes[1].set_title('ACC')\n",
    "\n",
    "plt.show()"
   ]
  },
  {
   "attachments": {},
   "cell_type": "markdown",
   "id": "3d3c4056",
   "metadata": {},
   "source": [
    "Trying Batch Normalization / Layer Normalzation"
   ]
  },
  {
   "cell_type": "code",
   "execution_count": 53,
   "id": "c1081eb7",
   "metadata": {},
   "outputs": [],
   "source": [
    "from keras.models import Sequential\n",
    "from keras.layers import Dense, Dropout, Activation, Flatten\n",
    "from keras.layers import Conv2D, MaxPooling2D"
   ]
  },
  {
   "cell_type": "code",
   "execution_count": 60,
   "id": "5c289b19",
   "metadata": {},
   "outputs": [],
   "source": [
    "model = keras.Sequential()\n",
    "# Add convolution 2D\n",
    "model.add(Conv2D(32, kernel_size=(3, 3),\n",
    "                 activation='relu',\n",
    "                 kernel_initializer='he_normal',\n",
    "                 input_shape=(28, 28, 1)))\n",
    "model.add(MaxPooling2D((2, 2)))\n",
    "model.add((Dropout(0.25)))\n",
    "model.add(Conv2D(64, kernel_size=(3, 3), \n",
    "                 activation='relu'))\n",
    "model.add(MaxPooling2D(pool_size=(2, 2)))\n",
    "model.add((Dropout(0.25)))\n",
    "model.add(Conv2D(128, kernel_size=(3, 3), activation='relu'))\n",
    "model.add(Flatten())\n",
    "model.add(Dense(128, activation='relu'))\n",
    "model.add((Dropout(0.25)))\n",
    "model.add(Dense(10, activation='softmax'))\n",
    "\n",
    "\n",
    "model.compile(loss=keras.losses.sparse_categorical_crossentropy,\n",
    "              optimizer='adam',\n",
    "              metrics=['accuracy'])"
   ]
  },
  {
   "cell_type": "code",
   "execution_count": 61,
   "id": "8aa3c098",
   "metadata": {},
   "outputs": [
    {
     "name": "stdout",
     "output_type": "stream",
     "text": [
      "Model: \"sequential_5\"\n",
      "_________________________________________________________________\n",
      " Layer (type)                Output Shape              Param #   \n",
      "=================================================================\n",
      " conv2d_4 (Conv2D)           (None, 26, 26, 32)        320       \n",
      "                                                                 \n",
      " max_pooling2d_3 (MaxPooling  (None, 13, 13, 32)       0         \n",
      " 2D)                                                             \n",
      "                                                                 \n",
      " dropout_4 (Dropout)         (None, 13, 13, 32)        0         \n",
      "                                                                 \n",
      " conv2d_5 (Conv2D)           (None, 11, 11, 64)        18496     \n",
      "                                                                 \n",
      " max_pooling2d_4 (MaxPooling  (None, 5, 5, 64)         0         \n",
      " 2D)                                                             \n",
      "                                                                 \n",
      " dropout_5 (Dropout)         (None, 5, 5, 64)          0         \n",
      "                                                                 \n",
      " conv2d_6 (Conv2D)           (None, 3, 3, 128)         73856     \n",
      "                                                                 \n",
      " flatten_4 (Flatten)         (None, 1152)              0         \n",
      "                                                                 \n",
      " dense_15 (Dense)            (None, 128)               147584    \n",
      "                                                                 \n",
      " dropout_6 (Dropout)         (None, 128)               0         \n",
      "                                                                 \n",
      " dense_16 (Dense)            (None, 10)                1290      \n",
      "                                                                 \n",
      "=================================================================\n",
      "Total params: 241,546\n",
      "Trainable params: 241,546\n",
      "Non-trainable params: 0\n",
      "_________________________________________________________________\n"
     ]
    }
   ],
   "source": [
    "model.summary()"
   ]
  },
  {
   "cell_type": "code",
   "execution_count": 63,
   "id": "f7d995b1",
   "metadata": {},
   "outputs": [
    {
     "name": "stdout",
     "output_type": "stream",
     "text": [
      "Epoch 1/15\n",
      "372/372 [==============================] - 2s 6ms/step - loss: 0.4005 - accuracy: 0.8550 - val_loss: 0.3330 - val_accuracy: 0.8815\n",
      "Epoch 2/15\n",
      "372/372 [==============================] - 2s 5ms/step - loss: 0.3534 - accuracy: 0.8695 - val_loss: 0.3077 - val_accuracy: 0.8875\n",
      "Epoch 3/15\n",
      "372/372 [==============================] - 2s 5ms/step - loss: 0.3260 - accuracy: 0.8818 - val_loss: 0.2872 - val_accuracy: 0.8955\n",
      "Epoch 4/15\n",
      "372/372 [==============================] - 2s 5ms/step - loss: 0.3032 - accuracy: 0.8897 - val_loss: 0.2730 - val_accuracy: 0.8983\n",
      "Epoch 5/15\n",
      "372/372 [==============================] - 2s 5ms/step - loss: 0.2873 - accuracy: 0.8947 - val_loss: 0.2696 - val_accuracy: 0.9009\n",
      "Epoch 6/15\n",
      "372/372 [==============================] - 2s 5ms/step - loss: 0.2701 - accuracy: 0.9009 - val_loss: 0.2580 - val_accuracy: 0.9050\n",
      "Epoch 7/15\n",
      "372/372 [==============================] - 2s 5ms/step - loss: 0.2608 - accuracy: 0.9037 - val_loss: 0.2563 - val_accuracy: 0.9038\n",
      "Epoch 8/15\n",
      "372/372 [==============================] - 2s 5ms/step - loss: 0.2510 - accuracy: 0.9073 - val_loss: 0.2515 - val_accuracy: 0.9053\n",
      "Epoch 9/15\n",
      "372/372 [==============================] - 2s 5ms/step - loss: 0.2381 - accuracy: 0.9115 - val_loss: 0.2483 - val_accuracy: 0.9072\n",
      "Epoch 10/15\n",
      "372/372 [==============================] - 2s 5ms/step - loss: 0.2330 - accuracy: 0.9140 - val_loss: 0.2415 - val_accuracy: 0.9106\n",
      "Epoch 11/15\n",
      "372/372 [==============================] - 2s 5ms/step - loss: 0.2244 - accuracy: 0.9163 - val_loss: 0.2427 - val_accuracy: 0.9119\n",
      "Epoch 12/15\n",
      "372/372 [==============================] - 2s 5ms/step - loss: 0.2169 - accuracy: 0.9187 - val_loss: 0.2370 - val_accuracy: 0.9152\n",
      "Epoch 13/15\n",
      "372/372 [==============================] - 2s 5ms/step - loss: 0.2145 - accuracy: 0.9198 - val_loss: 0.2371 - val_accuracy: 0.9151\n",
      "Epoch 14/15\n",
      "372/372 [==============================] - 2s 5ms/step - loss: 0.2073 - accuracy: 0.9226 - val_loss: 0.2414 - val_accuracy: 0.9154\n",
      "Epoch 15/15\n",
      "372/372 [==============================] - 2s 5ms/step - loss: 0.1993 - accuracy: 0.9252 - val_loss: 0.2392 - val_accuracy: 0.9145\n"
     ]
    }
   ],
   "source": [
    "result = model.fit(X_train, y_train,\n",
    "                  batch_size=BATCH_SIZE,\n",
    "                  epochs=15,\n",
    "                  verbose=1,\n",
    "                  validation_data=(X_val, y_val))"
   ]
  },
  {
   "cell_type": "code",
   "execution_count": 64,
   "id": "a7fd1f0e",
   "metadata": {},
   "outputs": [
    {
     "data": {
      "image/png": "[encoded data removed]",
      "text/plain": [
       "<Figure size 1080x360 with 2 Axes>"
      ]
     },
     "metadata": {
      "needs_background": "light"
     },
     "output_type": "display_data"
    }
   ],
   "source": [
    "fig, axes = plt.subplots(nrows=1, ncols=2, figsize=(15, 5))\n",
    "\n",
    "axes[0].plot(result.epoch, result.history[\"loss\"], label='Train Loss')\n",
    "axes[0].plot(result.epoch, result.history['val_loss'], label='Val Loss')\n",
    "axes[0].set_ylim(0.0, 1)\n",
    "axes[0].legend()\n",
    "axes[0].set_title('Loss')\n",
    "\n",
    "axes[1].plot(result.epoch, result.history['accuracy'], label='Train Accuracy')\n",
    "axes[1].plot(result.epoch, result.history['val_accuracy'], label='Val Accuracy')\n",
    "axes[1].set_ylim(0.7, 1)\n",
    "axes[1].legend()\n",
    "axes[1].set_title('ACC')\n",
    "\n",
    "plt.show()"
   ]
  }
 ],
 "metadata": {
  "kernelspec": {
   "display_name": "base",
   "language": "python",
   "name": "python3"
  },
  "language_info": {
   "codemirror_mode": {
    "name": "ipython",
    "version": 3
   },
   "file_extension": ".py",
   "mimetype": "text/x-python",
   "name": "python",
   "nbconvert_exporter": "python",
   "pygments_lexer": "ipython3",
   "version": "3.9.12"
  },
  "vscode": {
   "interpreter": {
    "hash": "610a6f344c2137faf927ea819c63f6cee33a2c04455044b28099f39fe9722347"
   }
  }
 },
 "nbformat": 4,
 "nbformat_minor": 5
}
