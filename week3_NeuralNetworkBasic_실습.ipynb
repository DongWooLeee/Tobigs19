{
  "cells": [
    {
      "cell_type": "markdown",
      "metadata": {
        "id": "view-in-github",
        "colab_type": "text"
      },
      "source": [
        "<a href=\"https://colab.research.google.com/github/DongWooLeee/Tobigs19/blob/main/week3_NeuralNetworkBasic_%EC%8B%A4%EC%8A%B5.ipynb\" target=\"_parent\"><img src=\"https://colab.research.google.com/assets/colab-badge.svg\" alt=\"Open In Colab\"/></a>"
      ]
    },
    {
      "cell_type": "markdown",
      "id": "00493e77",
      "metadata": {
        "id": "00493e77"
      },
      "source": [
        "> # Neural Network Basic - Week3 과제\n"
      ]
    },
    {
      "cell_type": "markdown",
      "id": "747656a3",
      "metadata": {
        "id": "747656a3"
      },
      "source": [
        "## Import Library"
      ]
    },
    {
      "cell_type": "code",
      "execution_count": null,
      "id": "2d4be987",
      "metadata": {
        "colab": {
          "base_uri": "https://localhost:8080/"
        },
        "id": "2d4be987",
        "outputId": "ee0c9e59-e52c-4e0f-8e06-d8dd50377e5a"
      },
      "outputs": [
        {
          "output_type": "stream",
          "name": "stdout",
          "text": [
            "Drive already mounted at /content/drive; to attempt to forcibly remount, call drive.mount(\"/content/drive\", force_remount=True).\n"
          ]
        }
      ],
      "source": [
        "import numpy as np\n",
        "from matplotlib import pyplot as plt\n",
        "import numpy as np\n",
        "import pandas as pd\n",
        "import seaborn as sns\n",
        "import matplotlib.pyplot as plt\n",
        "from google.colab import drive\n",
        "drive.mount('/content/drive')\n",
        "import sys\n",
        "import os\n",
        "sys.path.append('./drive/MyDrive/과제/Week3_NN/dataset/mnist.py')\n"
      ]
    },
    {
      "cell_type": "code",
      "source": [
        "!pip install datasets\n"
      ],
      "metadata": {
        "colab": {
          "base_uri": "https://localhost:8080/"
        },
        "id": "5KJAc5T3gYCN",
        "outputId": "c719f095-71b8-4e42-ae83-c6adaef6d680"
      },
      "id": "5KJAc5T3gYCN",
      "execution_count": null,
      "outputs": [
        {
          "output_type": "stream",
          "name": "stdout",
          "text": [
            "Looking in indexes: https://pypi.org/simple, https://us-python.pkg.dev/colab-wheels/public/simple/\n",
            "Collecting datasets\n",
            "  Downloading datasets-2.9.0-py3-none-any.whl (462 kB)\n",
            "\u001b[2K     \u001b[90m━━━━━━━━━━━━━━━━━━━━━━━━━━━━━━━━━━━━━━━\u001b[0m \u001b[32m462.8/462.8 KB\u001b[0m \u001b[31m9.2 MB/s\u001b[0m eta \u001b[36m0:00:00\u001b[0m\n",
            "\u001b[?25hRequirement already satisfied: pyarrow>=6.0.0 in /usr/local/lib/python3.8/dist-packages (from datasets) (9.0.0)\n",
            "Requirement already satisfied: dill<0.3.7 in /usr/local/lib/python3.8/dist-packages (from datasets) (0.3.6)\n",
            "Requirement already satisfied: packaging in /usr/local/lib/python3.8/dist-packages (from datasets) (23.0)\n",
            "Collecting xxhash\n",
            "  Downloading xxhash-3.2.0-cp38-cp38-manylinux_2_17_x86_64.manylinux2014_x86_64.whl (213 kB)\n",
            "\u001b[2K     \u001b[90m━━━━━━━━━━━━━━━━━━━━━━━━━━━━━━━━━━━━━━\u001b[0m \u001b[32m213.0/213.0 KB\u001b[0m \u001b[31m20.5 MB/s\u001b[0m eta \u001b[36m0:00:00\u001b[0m\n",
            "\u001b[?25hRequirement already satisfied: aiohttp in /usr/local/lib/python3.8/dist-packages (from datasets) (3.8.3)\n",
            "Requirement already satisfied: requests>=2.19.0 in /usr/local/lib/python3.8/dist-packages (from datasets) (2.25.1)\n",
            "Collecting responses<0.19\n",
            "  Downloading responses-0.18.0-py3-none-any.whl (38 kB)\n",
            "Requirement already satisfied: numpy>=1.17 in /usr/local/lib/python3.8/dist-packages (from datasets) (1.21.6)\n",
            "Collecting multiprocess\n",
            "  Downloading multiprocess-0.70.14-py38-none-any.whl (132 kB)\n",
            "\u001b[2K     \u001b[90m━━━━━━━━━━━━━━━━━━━━━━━━━━━━━━━━━━━━━━\u001b[0m \u001b[32m132.0/132.0 KB\u001b[0m \u001b[31m11.2 MB/s\u001b[0m eta \u001b[36m0:00:00\u001b[0m\n",
            "\u001b[?25hCollecting huggingface-hub<1.0.0,>=0.2.0\n",
            "  Downloading huggingface_hub-0.12.0-py3-none-any.whl (190 kB)\n",
            "\u001b[2K     \u001b[90m━━━━━━━━━━━━━━━━━━━━━━━━━━━━━━━━━━━━━━\u001b[0m \u001b[32m190.3/190.3 KB\u001b[0m \u001b[31m13.9 MB/s\u001b[0m eta \u001b[36m0:00:00\u001b[0m\n",
            "\u001b[?25hRequirement already satisfied: tqdm>=4.62.1 in /usr/local/lib/python3.8/dist-packages (from datasets) (4.64.1)\n",
            "Requirement already satisfied: fsspec[http]>=2021.11.1 in /usr/local/lib/python3.8/dist-packages (from datasets) (2023.1.0)\n",
            "Requirement already satisfied: pyyaml>=5.1 in /usr/local/lib/python3.8/dist-packages (from datasets) (6.0)\n",
            "Requirement already satisfied: pandas in /usr/local/lib/python3.8/dist-packages (from datasets) (1.3.5)\n",
            "Requirement already satisfied: async-timeout<5.0,>=4.0.0a3 in /usr/local/lib/python3.8/dist-packages (from aiohttp->datasets) (4.0.2)\n",
            "Requirement already satisfied: charset-normalizer<3.0,>=2.0 in /usr/local/lib/python3.8/dist-packages (from aiohttp->datasets) (2.1.1)\n",
            "Requirement already satisfied: yarl<2.0,>=1.0 in /usr/local/lib/python3.8/dist-packages (from aiohttp->datasets) (1.8.2)\n",
            "Requirement already satisfied: attrs>=17.3.0 in /usr/local/lib/python3.8/dist-packages (from aiohttp->datasets) (22.2.0)\n",
            "Requirement already satisfied: aiosignal>=1.1.2 in /usr/local/lib/python3.8/dist-packages (from aiohttp->datasets) (1.3.1)\n",
            "Requirement already satisfied: multidict<7.0,>=4.5 in /usr/local/lib/python3.8/dist-packages (from aiohttp->datasets) (6.0.4)\n",
            "Requirement already satisfied: frozenlist>=1.1.1 in /usr/local/lib/python3.8/dist-packages (from aiohttp->datasets) (1.3.3)\n",
            "Requirement already satisfied: filelock in /usr/local/lib/python3.8/dist-packages (from huggingface-hub<1.0.0,>=0.2.0->datasets) (3.9.0)\n",
            "Requirement already satisfied: typing-extensions>=3.7.4.3 in /usr/local/lib/python3.8/dist-packages (from huggingface-hub<1.0.0,>=0.2.0->datasets) (4.4.0)\n",
            "Requirement already satisfied: certifi>=2017.4.17 in /usr/local/lib/python3.8/dist-packages (from requests>=2.19.0->datasets) (2022.12.7)\n",
            "Requirement already satisfied: idna<3,>=2.5 in /usr/local/lib/python3.8/dist-packages (from requests>=2.19.0->datasets) (2.10)\n",
            "Requirement already satisfied: chardet<5,>=3.0.2 in /usr/local/lib/python3.8/dist-packages (from requests>=2.19.0->datasets) (4.0.0)\n",
            "Requirement already satisfied: urllib3<1.27,>=1.21.1 in /usr/local/lib/python3.8/dist-packages (from requests>=2.19.0->datasets) (1.24.3)\n",
            "Collecting urllib3<1.27,>=1.21.1\n",
            "  Downloading urllib3-1.26.14-py2.py3-none-any.whl (140 kB)\n",
            "\u001b[2K     \u001b[90m━━━━━━━━━━━━━━━━━━━━━━━━━━━━━━━━━━━━━━━\u001b[0m \u001b[32m140.6/140.6 KB\u001b[0m \u001b[31m8.5 MB/s\u001b[0m eta \u001b[36m0:00:00\u001b[0m\n",
            "\u001b[?25hRequirement already satisfied: python-dateutil>=2.7.3 in /usr/local/lib/python3.8/dist-packages (from pandas->datasets) (2.8.2)\n",
            "Requirement already satisfied: pytz>=2017.3 in /usr/local/lib/python3.8/dist-packages (from pandas->datasets) (2022.7.1)\n",
            "Requirement already satisfied: six>=1.5 in /usr/local/lib/python3.8/dist-packages (from python-dateutil>=2.7.3->pandas->datasets) (1.15.0)\n",
            "Installing collected packages: xxhash, urllib3, multiprocess, responses, huggingface-hub, datasets\n",
            "  Attempting uninstall: urllib3\n",
            "    Found existing installation: urllib3 1.24.3\n",
            "    Uninstalling urllib3-1.24.3:\n",
            "      Successfully uninstalled urllib3-1.24.3\n",
            "Successfully installed datasets-2.9.0 huggingface-hub-0.12.0 multiprocess-0.70.14 responses-0.18.0 urllib3-1.26.14 xxhash-3.2.0\n"
          ]
        }
      ]
    },
    {
      "cell_type": "code",
      "source": [
        "%cd /content/drive/MyDrive/과제/Week3_NN/dataset/"
      ],
      "metadata": {
        "colab": {
          "base_uri": "https://localhost:8080/"
        },
        "id": "U-QaMWLHgT4a",
        "outputId": "d3da62e6-d721-4509-b70b-11bcca1c4b8a"
      },
      "id": "U-QaMWLHgT4a",
      "execution_count": null,
      "outputs": [
        {
          "output_type": "stream",
          "name": "stdout",
          "text": [
            "/content/drive/MyDrive/과제/Week3_NN/dataset\n"
          ]
        }
      ]
    },
    {
      "cell_type": "code",
      "source": [
        "!python mnist.py install"
      ],
      "metadata": {
        "colab": {
          "base_uri": "https://localhost:8080/"
        },
        "id": "PzW3NzY_hhQU",
        "outputId": "12de5bc7-757d-470c-be27-02d6e672c61c"
      },
      "id": "PzW3NzY_hhQU",
      "execution_count": null,
      "outputs": [
        {
          "output_type": "stream",
          "name": "stdout",
          "text": [
            "Downloading train-images-idx3-ubyte.gz ... \n",
            "Done\n",
            "Downloading train-labels-idx1-ubyte.gz ... \n",
            "Done\n",
            "Downloading t10k-images-idx3-ubyte.gz ... \n",
            "Done\n",
            "Downloading t10k-labels-idx1-ubyte.gz ... \n",
            "Done\n",
            "Converting train-images-idx3-ubyte.gz to NumPy Array ...\n",
            "Done\n",
            "Converting train-labels-idx1-ubyte.gz to NumPy Array ...\n",
            "Done\n",
            "Converting t10k-images-idx3-ubyte.gz to NumPy Array ...\n",
            "Done\n",
            "Converting t10k-labels-idx1-ubyte.gz to NumPy Array ...\n",
            "Done\n",
            "Creating pickle file ...\n",
            "Done!\n"
          ]
        }
      ]
    },
    {
      "cell_type": "code",
      "source": [
        "from mnist import load_mnist"
      ],
      "metadata": {
        "id": "TF1HfwoDhlQ9"
      },
      "id": "TF1HfwoDhlQ9",
      "execution_count": null,
      "outputs": []
    },
    {
      "cell_type": "markdown",
      "id": "bbd9ddbb",
      "metadata": {
        "id": "bbd9ddbb"
      },
      "source": [
        "## Load Dataset\n",
        "- MNIST "
      ]
    },
    {
      "cell_type": "code",
      "execution_count": null,
      "id": "2813d656",
      "metadata": {
        "id": "2813d656"
      },
      "outputs": [],
      "source": [
        "(X_train, Y_train), (X_test, Y_test) = \\\n",
        "    load_mnist(normalize=True, one_hot_label=False)"
      ]
    },
    {
      "cell_type": "code",
      "execution_count": null,
      "id": "2bd1d69a",
      "metadata": {
        "colab": {
          "base_uri": "https://localhost:8080/"
        },
        "id": "2bd1d69a",
        "outputId": "e2ecd361-47ec-419d-f0ae-3223f2803832"
      },
      "outputs": [
        {
          "output_type": "stream",
          "name": "stdout",
          "text": [
            "X_train shape: (60000, 784)\n",
            "X_test shape: (10000, 784)\n",
            "Y_train shape: (60000,)\n",
            "Y_train shape: (10000,)\n"
          ]
        }
      ],
      "source": [
        "print(f'X_train shape: {X_train.shape}')\n",
        "print(f'X_test shape: {X_test.shape}')\n",
        "print(f'Y_train shape: {Y_train.shape}')\n",
        "print(f'Y_train shape: {Y_test.shape}')"
      ]
    },
    {
      "cell_type": "markdown",
      "id": "4581cc2e",
      "metadata": {
        "id": "4581cc2e"
      },
      "source": [
        "## Activation Function \n",
        "- sigmoid & relu : hidden layer activation function \n",
        "- softmax : output layer activation function "
      ]
    },
    {
      "cell_type": "code",
      "execution_count": null,
      "id": "a147a2b7",
      "metadata": {
        "id": "a147a2b7"
      },
      "outputs": [],
      "source": [
        "class sigmoid:\n",
        "    # sigmoid 함수를 작성하세요 \n",
        "    def forward(x):\n",
        "        return 1/(1+np.exp(-x))\n",
        "    \n",
        "    # sigmoid 함수의 미분을 작성하세요\n",
        "    def backward(x):\n",
        "        return np.exp(-x)/(1+np.exp(-x))**2"
      ]
    },
    {
      "cell_type": "code",
      "execution_count": null,
      "id": "f37afa8d",
      "metadata": {
        "id": "f37afa8d"
      },
      "outputs": [],
      "source": [
        "class relu:\n",
        "    # relu 함수를 작성하세요\n",
        "    def forward(x):\n",
        "        return np.max(0,x)\n",
        "    \n",
        "    # relu 함수의 미분을 작성하세요\n",
        "    def backward(x):\n",
        "        return 1 if x>0 else 0"
      ]
    },
    {
      "cell_type": "code",
      "execution_count": null,
      "id": "cb44b346",
      "metadata": {
        "id": "cb44b346"
      },
      "outputs": [],
      "source": [
        "class softmax:\n",
        "    def forward(z):\n",
        "        y = []\n",
        "        for zi in z:\n",
        "            c = np.max(zi)\n",
        "            exp_zi = np.exp(zi-c)\n",
        "            sum_exp_zi = np.sum(exp_zi)\n",
        "            yi = exp_zi / sum_exp_zi\n",
        "            y.append(yi)\n",
        "\n",
        "        return np.array(y)\n",
        "    \n",
        "    def backward(p, y) :\n",
        "        dp = p.copy()\n",
        "        for dpi, yi in zip(dp, y):\n",
        "            for k in range(dp.shape[1]):\n",
        "                if k == yi :\n",
        "                    dpi[k] -= 1\n",
        "        return dp"
      ]
    },
    {
      "cell_type": "markdown",
      "id": "36955740",
      "metadata": {
        "id": "36955740"
      },
      "source": [
        "## Loss Function"
      ]
    },
    {
      "cell_type": "code",
      "execution_count": null,
      "id": "44e0ad37",
      "metadata": {
        "id": "44e0ad37"
      },
      "outputs": [],
      "source": [
        "def cross_entropy(p, y):\n",
        "    loss = []\n",
        "    for pi, yi in zip(p, y):\n",
        "        for k in range(p.shape[1]):\n",
        "            if k == yi:\n",
        "                loss.append((-1) * (np.log(pi[k] + 1e-8))) #0이 되는것을 방지하기 위함\n",
        "    return loss"
      ]
    },
    {
      "cell_type": "markdown",
      "id": "0f9a7228",
      "metadata": {
        "id": "0f9a7228"
      },
      "source": [
        "## Layer"
      ]
    },
    {
      "cell_type": "code",
      "execution_count": null,
      "id": "668bda1a",
      "metadata": {
        "id": "668bda1a"
      },
      "outputs": [],
      "source": [
        "class Layer:\n",
        "    def __init__(self, input_size, output_size, std=1e-4) :\n",
        "        self.input_size = input_size\n",
        "        self.output_size = output_size\n",
        "        self.bias = np.random.randn(output_size)\n",
        "        self.weight = np.random.randn(input_size, output_size)*std"
      ]
    },
    {
      "cell_type": "markdown",
      "id": "a72dfcee",
      "metadata": {
        "id": "a72dfcee"
      },
      "source": [
        "## Neural Network\n",
        "- 각 메소드와 변수들의 역할을 주석으로 달아주세요! "
      ]
    },
    {
      "cell_type": "code",
      "execution_count": null,
      "id": "33125095",
      "metadata": {
        "id": "33125095"
      },
      "outputs": [],
      "source": [
        "class CustomNet: #neuralnet을 customizing\n",
        "    # CustomNet을 선언할 때 생성되는 값들입니다.\n",
        "    def __init__(self, lr=0.0001, epoch=500, batch_size=200):\n",
        "        self.lr = lr #initializing learning rate\n",
        "        self.epoch = epoch  #초깃값(default값)으로 learning rate, epoch, batch_size 등을 초기화\n",
        "        self.batch_size = batch_size\n",
        "        self.loss_function = cross_entropy #cross_entropy로 손실함수 설정\n",
        "        self.layers = [] #여기에다가 neural layer들을 쌓아나갈 것임\n",
        "        self.activations = [softmax]\n",
        "        self.nodes = []\n",
        "    \n",
        "    # Layer를 추가할 때 호출합니다\n",
        "    def addLayer(self, Layer): \n",
        "        self.layers.append(Layer) #Layer추가\n",
        "        if not self.nodes: #만약 노드가 지금 없다면\n",
        "            self.nodes.append(np.zeros(Layer.input_size)) #input size에 맞는 크기의 0으로 된 array를 더한다. 즉 노드가 없으면 인풋, 즉 시작 노드부터 만들어준다\n",
        "        self.nodes.append(np.zeros(Layer.output_size))#노드가 있으면 input은 들어왔다. 따라서 output node를 만들어준다\n",
        "        \n",
        "    # Activation Function을 추가할 때 호출합니다\n",
        "    def addActivation(self, Activation): #activation function\n",
        "        tmp = self.activations.pop() #맨 마지막 요소 가져오기 => 여기선 softmax! 결국에 가장 마지막에 해주어야하는 것은 softmax이기에 temp로 softmax를 리스트에서 빼내온다\n",
        "        self.activations.append(Activation) #얹고싶은 activation function을 추가하고\n",
        "        self.activations.append(tmp) #마지막에 다시 softmax를 얹는다\n",
        "        \n",
        "    # 순전파 함수\n",
        "    def _forward(self, X): #forward로서 update된 가중치(weight)로서 각 input들과 선형결합하여 더함\n",
        "        self.nodes[0] = X.copy() \n",
        "        output = X.copy() \n",
        "        for i in range(len(self.layers)): \n",
        "            Layer = self.layers[i] \n",
        "            Activation = self.activations[i] \n",
        "            output = np.dot(self.nodes[i], Layer.weight) #weight * input 선형결합\n",
        "            output = output+ Layer.bias #Layer만의 bias(위에서 랜덤하게 bias 할당)\n",
        "            output = Activation.forward(output)#활성화함수 통과시키기  \n",
        "            self.nodes[i+1] = output #다음 노드의 인풋값으로 현재 노드의 아웃풋값 할당\n",
        "        return output   #output 리턴\n",
        "    \n",
        "    # 역전파 함수\n",
        "    def _backward(self, X, output, y) :\n",
        "        for i in reversed(range(len(self.layers))): #역으로 거슬러 올라가기\n",
        "            a = self.nodes[i+1] #이전 레이어\n",
        "            Layer = self.layers[i] #현재레이어\n",
        "            Activation = self.activations[i] \n",
        "            \n",
        "            if i+1 == len(self.layers): #가장 아래에 있을 경우\n",
        "                error = Activation.backward(output, y)\n",
        "            else:\n",
        "                error *= Activation.backward(a)#가장 아래가 아닌 경우\n",
        "            Layer.weight -= np.dot(error.T, self.nodes[i]).T*self.lr/X.shape[0] #가중치업데이트 \n",
        "            Layer.bias -= error.sum(axis=0)*self.lr/X.shape[0]\n",
        "            error = np.dot(error, Layer.weight.T) #error 계산\n",
        "            \n",
        "    # Accrucy를 반환합니다\n",
        "    def _accuracy(self, output, y):\n",
        "        pre_p = np.argmax(output, axis=1)\n",
        "        return np.sum(pre_p==y)/y.shape[0] \n",
        "    \n",
        "    # 데이터셋에 모델을 fit할때 호출합니다\n",
        "    def fit(self, X, y, val_X, val_y):\n",
        "        history = {'val_acc': [],'val_loss': []}\n",
        "        N = X.shape[0]\n",
        "        for i in range(self.epoch):\n",
        "            for j in range(N//self.batch_size): \n",
        "                batch_mask = np.random.choice(N, self.batch_size) #랜덤하게 batch_size만큼 추ㅜㄹ\n",
        "                X_batch = X[batch_mask] \n",
        "                y_batch = y[batch_mask] \n",
        "                output = self._forward(X_batch) \n",
        "                self._backward(X_batch, output, y_batch)\n",
        "            \n",
        "            #accuracy와 loss를 기록해둡시다\n",
        "            output = self._forward(val_X) \n",
        "            history[\"val_acc\"].append(self._accuracy(output, val_y)) \n",
        "            history[\"val_loss\"].append(sum(self.loss_function(output, val_y))) \n",
        "            \n",
        "            #중간중간 기록을 찍어볼 때 사용. 적절히 조절해 쓰세요\n",
        "            if i % 10 == 0:\n",
        "                print(i, \"test accuracy :\", history[\"val_acc\"][-1])\n",
        "                print(i, \"test loss     :\", history[\"val_loss\"][-1])\n",
        "        return history"
      ]
    },
    {
      "cell_type": "markdown",
      "id": "e7787d0e",
      "metadata": {
        "id": "e7787d0e"
      },
      "source": [
        "## Customizing\n",
        "- Network parameter, Layer architecture, Activation function .. 등등 다양한 하이퍼파라미터를 커스터마이징하여 높은 성능에 도달해 봅시다! "
      ]
    },
    {
      "cell_type": "code",
      "execution_count": null,
      "id": "10d3d20c",
      "metadata": {
        "id": "10d3d20c"
      },
      "outputs": [],
      "source": [
        "# 하이퍼파라미터를 적절히 조절해 뉴럴넷을 선언하세요\n",
        "nn = CustomNet(lr=0.005, epoch=200, batch_size=400)\n",
        "\n",
        "# 원하는 만큼 층과 활성화 함수를 쌓아 주세요. 기본적으로 2Layer를 예시로 적어드립니다\n",
        "nn.addLayer(Layer(784,100))\n",
        "nn.addActivation(sigmoid)\n",
        "nn.addLayer(Layer(100,10))"
      ]
    },
    {
      "cell_type": "code",
      "execution_count": null,
      "id": "771766e2",
      "metadata": {
        "colab": {
          "base_uri": "https://localhost:8080/"
        },
        "id": "771766e2",
        "outputId": "5db9dc67-95f5-4ecf-fe04-d91a62f3e3df"
      },
      "outputs": [
        {
          "output_type": "stream",
          "name": "stdout",
          "text": [
            "(784, 100) (100,)\n",
            "(100, 10) (10,)\n"
          ]
        }
      ],
      "source": [
        "# 선언한 뉴럴넷의 구조입니다\n",
        "for layer in nn.layers:\n",
        "    print(layer.weight.shape, layer.bias.shape)"
      ]
    },
    {
      "cell_type": "code",
      "execution_count": null,
      "id": "b2c1018a",
      "metadata": {
        "colab": {
          "base_uri": "https://localhost:8080/"
        },
        "id": "b2c1018a",
        "outputId": "63ca8a87-4ff6-40fb-bff3-7dad78d20182"
      },
      "outputs": [
        {
          "output_type": "stream",
          "name": "stdout",
          "text": [
            "0 test accuracy : 0.1135\n",
            "0 test loss     : 23061.20225523441\n",
            "10 test accuracy : 0.1135\n",
            "10 test loss     : 22963.935974055847\n",
            "20 test accuracy : 0.1293\n",
            "20 test loss     : 22902.13721505381\n",
            "30 test accuracy : 0.2161\n",
            "30 test loss     : 22779.26365335069\n",
            "40 test accuracy : 0.2149\n",
            "40 test loss     : 22431.18276806052\n",
            "50 test accuracy : 0.2182\n",
            "50 test loss     : 21458.96890434205\n",
            "60 test accuracy : 0.2504\n",
            "60 test loss     : 19879.86126292618\n",
            "70 test accuracy : 0.338\n",
            "70 test loss     : 18309.901092012908\n",
            "80 test accuracy : 0.4226\n",
            "80 test loss     : 16546.550125645972\n",
            "90 test accuracy : 0.5071\n",
            "90 test loss     : 14868.162393418832\n",
            "100 test accuracy : 0.5811\n",
            "100 test loss     : 13335.57303936794\n",
            "110 test accuracy : 0.6472\n",
            "110 test loss     : 11771.596342370789\n",
            "120 test accuracy : 0.6938\n",
            "120 test loss     : 10356.950779018443\n",
            "130 test accuracy : 0.7348\n",
            "130 test loss     : 9224.203066969993\n",
            "140 test accuracy : 0.7643\n",
            "140 test loss     : 8316.57934939896\n",
            "150 test accuracy : 0.788\n",
            "150 test loss     : 7556.28090567608\n",
            "160 test accuracy : 0.8059\n",
            "160 test loss     : 6922.576365593423\n",
            "170 test accuracy : 0.8194\n",
            "170 test loss     : 6402.653948063569\n",
            "180 test accuracy : 0.8312\n",
            "180 test loss     : 5977.822303690553\n",
            "190 test accuracy : 0.8431\n",
            "190 test loss     : 5630.2146271331885\n"
          ]
        }
      ],
      "source": [
        "history = nn.fit(X_train, Y_train, X_test, Y_test) #ㅠ"
      ]
    },
    {
      "cell_type": "code",
      "execution_count": null,
      "id": "a4f9c2e6",
      "metadata": {
        "id": "a4f9c2e6"
      },
      "outputs": [],
      "source": []
    },
    {
      "cell_type": "code",
      "execution_count": null,
      "id": "9c2ce0de",
      "metadata": {
        "id": "9c2ce0de"
      },
      "outputs": [],
      "source": []
    },
    {
      "cell_type": "markdown",
      "id": "b76a6163",
      "metadata": {
        "id": "b76a6163"
      },
      "source": [
        "## Accuracy, Loss Visualization\n",
        "- 자유롭게 Accuracy나 Loss를 시각화하여 확인하고 결과를 확인해 보세요! "
      ]
    },
    {
      "cell_type": "code",
      "execution_count": null,
      "id": "eb733190",
      "metadata": {
        "colab": {
          "base_uri": "https://localhost:8080/",
          "height": 334
        },
        "id": "eb733190",
        "outputId": "f45a5e61-b630-48f8-e2ef-fb6df5049c04"
      },
      "outputs": [
        {
          "output_type": "display_data",
          "data": {
            "text/plain": [
              "<Figure size 720x360 with 1 Axes>"
            ],
            "image/png": "[encoded data removed]"
          },
          "metadata": {
            "needs_background": "light"
          }
        }
      ],
      "source": [
        "plt.figure(figsize=(10,5))\n",
        "plt.xlabel('Epoch')\n",
        "plt.ylabel('Loss')\n",
        "plt.plot(np.arange(1,201),history['val_loss'])\n",
        "plt.show()"
      ]
    },
    {
      "cell_type": "code",
      "execution_count": null,
      "id": "8702d4f6",
      "metadata": {
        "colab": {
          "base_uri": "https://localhost:8080/",
          "height": 334
        },
        "id": "8702d4f6",
        "outputId": "f59df2f9-e6e9-4f98-e416-d75ee5b8500c"
      },
      "outputs": [
        {
          "output_type": "display_data",
          "data": {
            "text/plain": [
              "<Figure size 720x360 with 1 Axes>"
            ],
            "image/png": "[encoded data removed]"
          },
          "metadata": {
            "needs_background": "light"
          }
        }
      ],
      "source": [
        "plt.figure(figsize=(10,5))\n",
        "plt.xlabel('Epoch')\n",
        "plt.ylabel('Accuracy')\n",
        "plt.plot(np.arange(1,201),history['val_acc'])\n",
        "plt.show()"
      ]
    }
  ],
  "metadata": {
    "kernelspec": {
      "display_name": "Python 3 (ipykernel)",
      "language": "python",
      "name": "python3"
    },
    "language_info": {
      "codemirror_mode": {
        "name": "ipython",
        "version": 3
      },
      "file_extension": ".py",
      "mimetype": "text/x-python",
      "name": "python",
      "nbconvert_exporter": "python",
      "pygments_lexer": "ipython3",
      "version": "3.9.7"
    },
    "colab": {
      "provenance": [],
      "include_colab_link": true
    }
  },
  "nbformat": 4,
  "nbformat_minor": 5
}